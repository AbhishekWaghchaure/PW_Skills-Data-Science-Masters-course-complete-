{
 "cells": [
  {
   "cell_type": "code",
   "execution_count": null,
   "metadata": {
    "ExecuteTime": {
     "end_time": "2023-07-27T05:51:44.268702Z",
     "start_time": "2023-07-27T05:51:44.088909Z"
    }
   },
   "outputs": [],
   "source": [
    "import matplotlib.pyplot as plt\n",
    "import cv2"
   ]
  },
  {
   "cell_type": "code",
   "execution_count": null,
   "metadata": {
    "ExecuteTime": {
     "end_time": "2023-07-27T05:51:44.328470Z",
     "start_time": "2023-07-27T05:51:44.093278Z"
    }
   },
   "outputs": [],
   "source": [
    "im = cv2.imread(\"Cat03.jpg\")"
   ]
  },
  {
   "cell_type": "code",
   "execution_count": null,
   "metadata": {
    "ExecuteTime": {
     "end_time": "2023-07-27T05:51:44.478847Z",
     "start_time": "2023-07-27T05:51:44.118469Z"
    }
   },
   "outputs": [],
   "source": [
    "plt.imshow(im)"
   ]
  },
  {
   "cell_type": "code",
   "execution_count": null,
   "metadata": {
    "ExecuteTime": {
     "end_time": "2023-07-27T05:51:44.479072Z",
     "start_time": "2023-07-27T05:51:44.332689Z"
    }
   },
   "outputs": [],
   "source": [
    "im"
   ]
  },
  {
   "cell_type": "code",
   "execution_count": null,
   "metadata": {
    "ExecuteTime": {
     "end_time": "2023-07-27T05:51:44.578224Z",
     "start_time": "2023-07-27T05:51:44.337776Z"
    }
   },
   "outputs": [],
   "source": [
    "import matplotlib.pyplot as plt\n",
    "import matplotlib.image as mpimg\n",
    "\n",
    "import cv2\n",
    "import numpy as np\n",
    "\n",
    "%matplotlib inline\n",
    "\n",
    "# Read in the image\n",
    "image = mpimg.imread('Cat03.jpg')\n",
    "\n",
    "plt.imshow(image)"
   ]
  },
  {
   "cell_type": "code",
   "execution_count": null,
   "metadata": {
    "ExecuteTime": {
     "end_time": "2023-07-27T05:51:44.578379Z",
     "start_time": "2023-07-27T05:51:44.554083Z"
    }
   },
   "outputs": [],
   "source": [
    "gray = cv2.cvtColor(image, cv2.COLOR_RGB2GRAY)"
   ]
  },
  {
   "cell_type": "code",
   "execution_count": null,
   "metadata": {
    "ExecuteTime": {
     "end_time": "2023-07-27T05:51:44.723654Z",
     "start_time": "2023-07-27T05:51:44.570294Z"
    }
   },
   "outputs": [],
   "source": [
    "plt.imshow(gray)"
   ]
  },
  {
   "cell_type": "code",
   "execution_count": null,
   "metadata": {
    "ExecuteTime": {
     "end_time": "2023-07-27T05:51:44.863231Z",
     "start_time": "2023-07-27T05:51:44.723543Z"
    }
   },
   "outputs": [],
   "source": [
    "plt.imshow(gray, cmap='gray')"
   ]
  },
  {
   "cell_type": "code",
   "execution_count": null,
   "metadata": {
    "ExecuteTime": {
     "end_time": "2023-07-27T05:51:44.865871Z",
     "start_time": "2023-07-27T05:51:44.863684Z"
    }
   },
   "outputs": [],
   "source": [
    "sobel_y = np.array([[-1,2,-1],\n",
    "                   [0,0,0],\n",
    "                   [1,2,1]])\n",
    "\n",
    "sobel_x = np.array([[-1,0,1],\n",
    "                   [-2,0,2],\n",
    "                   [-1,0,1]])"
   ]
  },
  {
   "cell_type": "code",
   "execution_count": null,
   "metadata": {
    "ExecuteTime": {
     "end_time": "2023-07-27T05:51:44.869390Z",
     "start_time": "2023-07-27T05:51:44.866445Z"
    }
   },
   "outputs": [],
   "source": [
    "#filter the image using filter2D(grayscale image, bit-depth, kernal)\n",
    "\n",
    "filtered_image1 = cv2.filter2D(gray, -1, sobel_x)\n",
    "filtered_image2 = cv2.filter2D(gray, -1, sobel_y)"
   ]
  },
  {
   "cell_type": "code",
   "execution_count": null,
   "metadata": {
    "ExecuteTime": {
     "end_time": "2023-07-27T05:51:45.125751Z",
     "start_time": "2023-07-27T05:51:44.871395Z"
    }
   },
   "outputs": [],
   "source": [
    "f, ax = plt.subplots(1, 2, figsize=(15, 4))\n",
    "ax[0].set_title('horizontal edge detection')\n",
    "ax[0].imshow(filtered_image1, cmap='gray')\n",
    "ax[1].set_title('vertical edge detection')\n",
    "ax[1].imshow(filtered_image2, cmap='gray')"
   ]
  },
  {
   "attachments": {},
   "cell_type": "markdown",
   "metadata": {},
   "source": [
    "## CNN Example using MINIST dataset"
   ]
  },
  {
   "attachments": {},
   "cell_type": "markdown",
   "metadata": {},
   "source": [
    "MNIST is one of the most famous datasets in the field of machine learning.\n",
    " - It has 70,000 images of hand-written digits\n",
    " - Very straight forward to download\n",
    " - Images dimensions are 28x28\n",
    " - Grayscale images"
   ]
  },
  {
   "cell_type": "code",
   "execution_count": null,
   "metadata": {
    "ExecuteTime": {
     "end_time": "2023-07-27T05:51:45.128129Z",
     "start_time": "2023-07-27T05:51:45.126073Z"
    }
   },
   "outputs": [],
   "source": [
    "from tensorflow.keras.datasets import mnist"
   ]
  },
  {
   "cell_type": "code",
   "execution_count": null,
   "metadata": {
    "ExecuteTime": {
     "end_time": "2023-07-27T05:51:45.268532Z",
     "start_time": "2023-07-27T05:51:45.129650Z"
    }
   },
   "outputs": [],
   "source": [
    "(X_train,y_train),(X_test,y_test) = mnist.load_data()"
   ]
  },
  {
   "cell_type": "code",
   "execution_count": null,
   "metadata": {
    "ExecuteTime": {
     "end_time": "2023-07-27T05:51:45.273741Z",
     "start_time": "2023-07-27T05:51:45.271552Z"
    }
   },
   "outputs": [],
   "source": [
    "print(\"The MNIST database has a training set of %d examples.\" % len(X_train))\n",
    "print(\"The MNIST database has a test set of %d examples.\" % len(X_test))"
   ]
  },
  {
   "cell_type": "code",
   "execution_count": null,
   "metadata": {
    "ExecuteTime": {
     "end_time": "2023-07-27T05:51:45.275525Z",
     "start_time": "2023-07-27T05:51:45.274055Z"
    }
   },
   "outputs": [],
   "source": [
    "import numpy as np\n",
    "import matplotlib.pyplot as plt"
   ]
  },
  {
   "cell_type": "code",
   "execution_count": null,
   "metadata": {
    "ExecuteTime": {
     "end_time": "2023-07-27T05:51:45.412645Z",
     "start_time": "2023-07-27T05:51:45.277350Z"
    }
   },
   "outputs": [],
   "source": [
    "fig = plt.figure(figsize = (20,20))\n",
    "for i in range (6):\n",
    "    ax = fig.add_subplot(1,6, i+1, xticks = [],yticks = [])\n",
    "    ax.imshow(X_train[i], cmap = 'gray')\n",
    "    ax.set_title(str(y_train[i]))"
   ]
  },
  {
   "cell_type": "code",
   "execution_count": null,
   "metadata": {
    "ExecuteTime": {
     "end_time": "2023-07-27T05:51:46.370164Z",
     "start_time": "2023-07-27T05:51:45.412481Z"
    }
   },
   "outputs": [],
   "source": [
    "def visualize_input(img, ax):\n",
    "    ax.imshow(img, cmap='gray')\n",
    "    width, height = img.shape\n",
    "    thresh = img.max()/2.5\n",
    "    for x in range(width):\n",
    "        for y in range(height):\n",
    "            ax.annotate(str(round(img[x][y],2)), xy=(y,x),\n",
    "                        horizontalalignment='center',\n",
    "                        verticalalignment='center',\n",
    "                        color='white' if img[x][y]<thresh else 'black')\n",
    "\n",
    "fig = plt.figure(figsize = (12,12))\n",
    "ax = fig.add_subplot(111)\n",
    "visualize_input(X_train[0], ax)"
   ]
  },
  {
   "cell_type": "code",
   "execution_count": null,
   "metadata": {
    "ExecuteTime": {
     "end_time": "2023-07-27T05:51:46.446332Z",
     "start_time": "2023-07-27T05:51:46.369807Z"
    }
   },
   "outputs": [],
   "source": [
    "X_train = X_train/255\n",
    "X_test = X_test/255"
   ]
  },
  {
   "cell_type": "code",
   "execution_count": null,
   "metadata": {
    "ExecuteTime": {
     "end_time": "2023-07-27T05:51:46.450945Z",
     "start_time": "2023-07-27T05:51:46.444576Z"
    }
   },
   "outputs": [],
   "source": [
    "X_train.shape"
   ]
  },
  {
   "cell_type": "code",
   "execution_count": null,
   "metadata": {
    "ExecuteTime": {
     "end_time": "2023-07-27T05:51:46.451294Z",
     "start_time": "2023-07-27T05:51:46.448423Z"
    }
   },
   "outputs": [],
   "source": [
    "X_test.shape"
   ]
  },
  {
   "cell_type": "code",
   "execution_count": null,
   "metadata": {
    "ExecuteTime": {
     "end_time": "2023-07-27T05:51:46.454549Z",
     "start_time": "2023-07-27T05:51:46.452745Z"
    }
   },
   "outputs": [],
   "source": [
    "img_rows = 28\n",
    "column_rows = 28\n",
    "\n",
    "X_train = X_train.reshape(X_train.shape[0],img_rows,column_rows,1)\n",
    "X_test = X_test.reshape(X_test.shape[0], img_rows,column_rows,1)\n",
    "\n",
    "input_shape = (img_rows,column_rows)"
   ]
  },
  {
   "cell_type": "code",
   "execution_count": null,
   "metadata": {
    "ExecuteTime": {
     "end_time": "2023-07-27T05:51:46.457651Z",
     "start_time": "2023-07-27T05:51:46.455438Z"
    }
   },
   "outputs": [],
   "source": [
    "print (X_train.shape)\n",
    "print(X_test.shape)\n",
    "print(input_shape)"
   ]
  },
  {
   "cell_type": "code",
   "execution_count": null,
   "metadata": {
    "ExecuteTime": {
     "end_time": "2023-07-27T05:51:46.464725Z",
     "start_time": "2023-07-27T05:51:46.459389Z"
    }
   },
   "outputs": [],
   "source": [
    "from tensorflow.keras.utils import to_categorical\n",
    "\n",
    "num_classes = 10\n",
    "# print first ten (integer-valued) training labels\n",
    "print('Integer-valued labels:')\n",
    "print(y_train[:10])\n",
    "\n",
    "# one-hot encode the labels\n",
    "# convert class vectors to binary class matrices\n",
    "y_train = to_categorical(y_train, num_classes)\n",
    "y_test = to_categorical(y_test, num_classes)\n",
    "\n",
    "# print first ten (one-hot) training labels\n",
    "print('One-hot labels:')\n",
    "print(y_train[:10])\n"
   ]
  },
  {
   "cell_type": "code",
   "execution_count": null,
   "metadata": {
    "ExecuteTime": {
     "end_time": "2023-07-27T05:51:46.466132Z",
     "start_time": "2023-07-27T05:51:46.463580Z"
    }
   },
   "outputs": [],
   "source": [
    "from tensorflow.keras.models import Sequential\n",
    "from tensorflow.keras.layers import Conv2D, MaxPool2D, Flatten, Dense, Dropout"
   ]
  },
  {
   "cell_type": "code",
   "execution_count": null,
   "metadata": {
    "ExecuteTime": {
     "end_time": "2023-07-27T05:51:46.509245Z",
     "start_time": "2023-07-27T05:51:46.469191Z"
    }
   },
   "outputs": [],
   "source": [
    "model = Sequential()\n",
    "\n",
    "model.add(Conv2D(32,kernel_size =( 3,3), padding = 'same',activation = 'relu', input_shape = (28,28,1)))\n",
    "model.add(MaxPool2D(pool_size= (2,2)))\n",
    "\n",
    "model.add(Conv2D(64, kernel_size = (3,3), padding = 'same', activation = 'relu'))\n",
    "model.add(MaxPool2D(pool_size=(2,2)))"
   ]
  },
  {
   "cell_type": "code",
   "execution_count": null,
   "metadata": {
    "ExecuteTime": {
     "end_time": "2023-07-27T05:51:46.518617Z",
     "start_time": "2023-07-27T05:51:46.494722Z"
    }
   },
   "outputs": [],
   "source": [
    "model.add(Flatten())"
   ]
  },
  {
   "cell_type": "code",
   "execution_count": null,
   "metadata": {
    "ExecuteTime": {
     "end_time": "2023-07-27T05:51:46.519025Z",
     "start_time": "2023-07-27T05:51:46.509440Z"
    }
   },
   "outputs": [],
   "source": [
    "model.add(Dense(64, activation = 'relu'))\n",
    "model.add(Dense(10, activation = 'softmax'))"
   ]
  },
  {
   "cell_type": "code",
   "execution_count": null,
   "metadata": {
    "ExecuteTime": {
     "end_time": "2023-07-27T05:51:46.525401Z",
     "start_time": "2023-07-27T05:51:46.512828Z"
    }
   },
   "outputs": [],
   "source": [
    "model.summary()"
   ]
  },
  {
   "cell_type": "code",
   "execution_count": null,
   "metadata": {
    "ExecuteTime": {
     "end_time": "2023-07-27T05:51:46.532699Z",
     "start_time": "2023-07-27T05:51:46.527171Z"
    }
   },
   "outputs": [],
   "source": [
    "model.compile(loss='categorical_crossentropy', optimizer='adam', metrics=['accuracy'])"
   ]
  },
  {
   "attachments": {},
   "cell_type": "markdown",
   "metadata": {},
   "source": [
    "### adding callback functions\n",
    "early stopping\n",
    "model checkpoint"
   ]
  },
  {
   "cell_type": "code",
   "execution_count": null,
   "metadata": {
    "ExecuteTime": {
     "end_time": "2023-07-27T05:51:46.556107Z",
     "start_time": "2023-07-27T05:51:46.530913Z"
    }
   },
   "outputs": [],
   "source": [
    "from tensorflow.keras.callbacks import ModelCheckpoint"
   ]
  },
  {
   "cell_type": "code",
   "execution_count": null,
   "metadata": {
    "ExecuteTime": {
     "end_time": "2023-07-27T05:51:46.566692Z",
     "start_time": "2023-07-27T05:51:46.533768Z"
    }
   },
   "outputs": [],
   "source": [
    "callback = ModelCheckpoint(filepath='model.weights.best.keras', verbose=1, save_best_only=True)\n"
   ]
  },
  {
   "cell_type": "code",
   "execution_count": null,
   "metadata": {
    "ExecuteTime": {
     "end_time": "2023-07-27T05:55:07.197961Z",
     "start_time": "2023-07-27T05:51:46.537526Z"
    }
   },
   "outputs": [],
   "source": [
    "history = model.fit(X_train,y_train,callbacks=[callback], epochs = 10, batch_size=30, validation_split= 0.20, verbose = 2 )"
   ]
  },
  {
   "cell_type": "code",
   "execution_count": null,
   "metadata": {
    "ExecuteTime": {
     "end_time": "2023-07-27T05:55:07.201124Z",
     "start_time": "2023-07-27T05:55:07.199189Z"
    }
   },
   "outputs": [],
   "source": [
    "type(history)"
   ]
  },
  {
   "cell_type": "code",
   "execution_count": null,
   "metadata": {
    "ExecuteTime": {
     "end_time": "2023-07-27T05:55:07.204201Z",
     "start_time": "2023-07-27T05:55:07.202362Z"
    }
   },
   "outputs": [],
   "source": [
    "history.history"
   ]
  },
  {
   "cell_type": "code",
   "execution_count": null,
   "metadata": {
    "ExecuteTime": {
     "end_time": "2023-07-27T05:55:07.211359Z",
     "start_time": "2023-07-27T05:55:07.205946Z"
    }
   },
   "outputs": [],
   "source": [
    "import pandas as pd\n",
    "pd.DataFrame(history.history)"
   ]
  },
  {
   "cell_type": "code",
   "execution_count": null,
   "metadata": {
    "ExecuteTime": {
     "end_time": "2023-07-27T05:55:07.359051Z",
     "start_time": "2023-07-27T05:55:07.212398Z"
    }
   },
   "outputs": [],
   "source": [
    "pd.DataFrame(history.history).plot()"
   ]
  },
  {
   "cell_type": "code",
   "execution_count": null,
   "metadata": {
    "ExecuteTime": {
     "end_time": "2023-07-27T05:55:10.359017Z",
     "start_time": "2023-07-27T05:55:07.328395Z"
    }
   },
   "outputs": [],
   "source": [
    "model.evaluate(X_test, y_test)"
   ]
  },
  {
   "cell_type": "code",
   "execution_count": null,
   "metadata": {
    "ExecuteTime": {
     "end_time": "2023-07-27T05:55:11.491688Z",
     "start_time": "2023-07-27T05:55:10.360004Z"
    }
   },
   "outputs": [],
   "source": [
    "y_pred = model.predict(X_test)"
   ]
  },
  {
   "cell_type": "code",
   "execution_count": null,
   "metadata": {
    "ExecuteTime": {
     "end_time": "2023-07-27T05:55:11.927311Z",
     "start_time": "2023-07-27T05:55:11.492061Z"
    }
   },
   "outputs": [],
   "source": [
    "from sklearn.metrics import accuracy_score, confusion_matrix , precision_score, recall_score"
   ]
  },
  {
   "cell_type": "code",
   "execution_count": null,
   "metadata": {
    "ExecuteTime": {
     "end_time": "2023-07-27T05:55:11.930526Z",
     "start_time": "2023-07-27T05:55:11.928127Z"
    }
   },
   "outputs": [],
   "source": [
    "y_pred_classes = np.argmax(y_pred, axis = 1)\n",
    "y_test_classes = np.argmax(y_test, axis = 1)"
   ]
  },
  {
   "cell_type": "code",
   "execution_count": null,
   "metadata": {
    "ExecuteTime": {
     "end_time": "2023-07-27T05:55:11.941586Z",
     "start_time": "2023-07-27T05:55:11.937404Z"
    }
   },
   "outputs": [],
   "source": [
    "confusion_matrix(y_test_classes,y_pred_classes)"
   ]
  },
  {
   "cell_type": "code",
   "execution_count": null,
   "metadata": {
    "ExecuteTime": {
     "end_time": "2023-07-27T05:55:11.945882Z",
     "start_time": "2023-07-27T05:55:11.942396Z"
    }
   },
   "outputs": [],
   "source": [
    "accuracy_score(y_test_classes,y_pred_classes)"
   ]
  },
  {
   "cell_type": "code",
   "execution_count": null,
   "metadata": {
    "ExecuteTime": {
     "end_time": "2023-07-27T05:55:11.970208Z",
     "start_time": "2023-07-27T05:55:11.946979Z"
    }
   },
   "outputs": [],
   "source": [
    "recall_score(y_test_classes,y_pred_classes, average = 'micro')"
   ]
  },
  {
   "cell_type": "code",
   "execution_count": null,
   "metadata": {
    "ExecuteTime": {
     "end_time": "2023-07-27T05:55:11.981562Z",
     "start_time": "2023-07-27T05:55:11.954054Z"
    }
   },
   "outputs": [],
   "source": [
    "model.load_weights('/Users/abhishekwaghchaure/Desktop/PWSkillsDataScience/model.wieghts.best.hdf5')"
   ]
  },
  {
   "cell_type": "code",
   "execution_count": null,
   "metadata": {
    "ExecuteTime": {
     "end_time": "2023-07-27T05:55:11.988893Z",
     "start_time": "2023-07-27T05:55:11.968223Z"
    }
   },
   "outputs": [],
   "source": [
    "y_test[23]"
   ]
  },
  {
   "cell_type": "code",
   "execution_count": null,
   "metadata": {
    "ExecuteTime": {
     "end_time": "2023-07-27T05:55:11.989148Z",
     "start_time": "2023-07-27T05:55:11.971550Z"
    }
   },
   "outputs": [],
   "source": [
    "np.argmax(X_test[23])"
   ]
  },
  {
   "cell_type": "code",
   "execution_count": null,
   "metadata": {
    "ExecuteTime": {
     "end_time": "2023-07-27T05:55:12.065622Z",
     "start_time": "2023-07-27T05:55:11.981795Z"
    }
   },
   "outputs": [],
   "source": [
    "plt.imshow(X_test[23])"
   ]
  },
  {
   "attachments": {},
   "cell_type": "markdown",
   "metadata": {},
   "source": [
    "## Performing CNN on RGB Images \n",
    "used CIFAR-10 dataset"
   ]
  },
  {
   "cell_type": "code",
   "execution_count": null,
   "metadata": {
    "ExecuteTime": {
     "end_time": "2023-07-27T05:55:12.068213Z",
     "start_time": "2023-07-27T05:55:12.066433Z"
    }
   },
   "outputs": [],
   "source": [
    "from keras.datasets import cifar10\n",
    "import matplotlib.pyplot as plt\n",
    "import numpy as np\n",
    "import keras"
   ]
  },
  {
   "cell_type": "code",
   "execution_count": null,
   "metadata": {
    "ExecuteTime": {
     "end_time": "2023-07-27T05:55:12.300297Z",
     "start_time": "2023-07-27T05:55:12.068883Z"
    }
   },
   "outputs": [],
   "source": [
    "(X_train,y_train), (X_test,y_test) = cifar10.load_data()"
   ]
  },
  {
   "cell_type": "code",
   "execution_count": null,
   "metadata": {
    "ExecuteTime": {
     "end_time": "2023-07-27T05:55:12.303152Z",
     "start_time": "2023-07-27T05:55:12.300981Z"
    }
   },
   "outputs": [],
   "source": [
    "X_train.shape"
   ]
  },
  {
   "cell_type": "code",
   "execution_count": null,
   "metadata": {
    "ExecuteTime": {
     "end_time": "2023-07-27T05:55:12.391726Z",
     "start_time": "2023-07-27T05:55:12.305613Z"
    }
   },
   "outputs": [],
   "source": [
    "plt.imshow(X_train[1])"
   ]
  },
  {
   "cell_type": "code",
   "execution_count": null,
   "metadata": {
    "ExecuteTime": {
     "end_time": "2023-07-27T05:55:12.928100Z",
     "start_time": "2023-07-27T05:55:12.392771Z"
    }
   },
   "outputs": [],
   "source": [
    "fig = plt.figure(figsize=(20,5))\n",
    "for i in range(36):\n",
    "    ax = fig.add_subplot(3,12, i+1, xticks=[], yticks = [])\n",
    "    ax.imshow(np.squeeze(X_train[i]))"
   ]
  },
  {
   "cell_type": "markdown",
   "metadata": {},
   "source": [
    "## image rescaling by dividing each pixel by 255"
   ]
  },
  {
   "cell_type": "code",
   "execution_count": null,
   "metadata": {
    "ExecuteTime": {
     "end_time": "2023-07-27T05:55:13.174335Z",
     "start_time": "2023-07-27T05:55:12.928349Z"
    }
   },
   "outputs": [],
   "source": [
    "X_train = X_train/255\n",
    "X_test = X_test/255"
   ]
  },
  {
   "cell_type": "markdown",
   "metadata": {},
   "source": [
    "## One hot label encoding to the labelled data"
   ]
  },
  {
   "cell_type": "code",
   "execution_count": null,
   "metadata": {
    "ExecuteTime": {
     "end_time": "2023-07-27T05:55:13.178156Z",
     "start_time": "2023-07-27T05:55:13.174979Z"
    }
   },
   "outputs": [],
   "source": [
    "num_classes = len(np.unique(y_train))\n",
    "y_train = keras.utils.to_categorical(y_train, num_classes)\n",
    "y_test = keras.utils.to_categorical(y_test, num_classes)"
   ]
  },
  {
   "cell_type": "code",
   "execution_count": null,
   "metadata": {
    "ExecuteTime": {
     "end_time": "2023-07-27T05:55:13.181365Z",
     "start_time": "2023-07-27T05:55:13.179061Z"
    }
   },
   "outputs": [],
   "source": [
    "y_train"
   ]
  },
  {
   "cell_type": "markdown",
   "metadata": {},
   "source": [
    "## Designing CNN model"
   ]
  },
  {
   "cell_type": "code",
   "execution_count": null,
   "metadata": {
    "ExecuteTime": {
     "end_time": "2023-07-27T05:55:13.183699Z",
     "start_time": "2023-07-27T05:55:13.182244Z"
    }
   },
   "outputs": [],
   "source": [
    "from keras.models import Sequential\n",
    "from keras.layers import Conv2D, Flatten, Dense, Dropout, MaxPooling2D"
   ]
  },
  {
   "cell_type": "code",
   "execution_count": null,
   "metadata": {
    "ExecuteTime": {
     "end_time": "2023-07-27T05:55:13.264037Z",
     "start_time": "2023-07-27T05:55:13.187091Z"
    }
   },
   "outputs": [],
   "source": [
    "model = Sequential()\n",
    "\n",
    "model.add(Conv2D(filters=16, kernel_size=(3,3), padding = 'same', activation = 'relu', input_shape = (32,32,3)))\n",
    "model.add(MaxPooling2D(pool_size=(2,2)))\n",
    "\n",
    "model.add(Conv2D(filters=32, kernel_size=(3,3), padding='same', activation='relu'))\n",
    "model.add(MaxPooling2D(pool_size=(2,2)))\n",
    "\n",
    "model.add(Conv2D(filters=64, kernel_size=(3,3), padding = 'same', activation='relu'))\n",
    "model.add(MaxPooling2D(pool_size=(2,2)))\n",
    "\n",
    "model.add(Dropout(0.3))\n",
    "\n",
    "model.add(Flatten())\n",
    "\n",
    "model.add(Dense(500, activation='relu'))\n",
    "\n",
    "model.add(Dropout(0.4))\n",
    "\n",
    "model.add(Dense(10, activation='softmax'))\n",
    "          "
   ]
  },
  {
   "cell_type": "code",
   "execution_count": null,
   "metadata": {
    "ExecuteTime": {
     "end_time": "2023-07-27T05:55:13.274344Z",
     "start_time": "2023-07-27T05:55:13.264314Z"
    }
   },
   "outputs": [],
   "source": [
    "model.summary()"
   ]
  },
  {
   "cell_type": "code",
   "execution_count": null,
   "metadata": {
    "ExecuteTime": {
     "end_time": "2023-07-27T05:55:13.282867Z",
     "start_time": "2023-07-27T05:55:13.282174Z"
    }
   },
   "outputs": [],
   "source": [
    "model.compile(loss='categorical_crossentropy', metrics = ['accuracy'], optimizer='rmsprop')"
   ]
  },
  {
   "cell_type": "code",
   "execution_count": null,
   "metadata": {
    "ExecuteTime": {
     "end_time": "2023-07-27T05:55:35.595360Z",
     "start_time": "2023-07-27T05:55:13.284237Z"
    }
   },
   "outputs": [],
   "source": [
    "from tensorflow.keras.callbacks import ModelCheckpoint\n",
    "\n",
    "# train the model\n",
    "checkpointer = ModelCheckpoint(filepath='model.weights.best.keras', verbose=1, save_best_only=True)\n",
    "\n",
    "history = model.fit(X_train, y_train, batch_size=32, epochs=1,\n",
    "          validation_split=0.2, callbacks=[checkpointer],\n",
    "          verbose=2, shuffle=True)"
   ]
  },
  {
   "cell_type": "code",
   "execution_count": null,
   "metadata": {
    "ExecuteTime": {
     "end_time": "2023-07-27T05:55:38.413021Z",
     "start_time": "2023-07-27T05:55:35.588923Z"
    }
   },
   "outputs": [],
   "source": [
    "model.evaluate(X_test,y_test)"
   ]
  },
  {
   "cell_type": "code",
   "execution_count": null,
   "metadata": {
    "ExecuteTime": {
     "end_time": "2023-07-27T05:55:39.608634Z",
     "start_time": "2023-07-27T05:55:38.412694Z"
    }
   },
   "outputs": [],
   "source": [
    "y_pred = model.predict(X_test)"
   ]
  },
  {
   "cell_type": "code",
   "execution_count": null,
   "metadata": {
    "ExecuteTime": {
     "end_time": "2023-07-27T05:55:40.345789Z",
     "start_time": "2023-07-27T05:55:39.617991Z"
    }
   },
   "outputs": [],
   "source": [
    "cifar10_labels = ['airplane', 'automobile', 'bird', 'cat', 'deer', 'dog', 'frog', 'horse', 'ship', 'truck']\n",
    "\n",
    "fig = plt.figure(figsize=(20, 8))\n",
    "for i, idx in enumerate(np.random.choice(X_test.shape[0], size=32, replace=False)):\n",
    "    ax = fig.add_subplot(4, 8, i + 1, xticks=[], yticks=[])\n",
    "    ax.imshow(np.squeeze(X_test[idx]))\n",
    "    pred_idx = np.argmax(y_pred[idx])\n",
    "    true_idx = np.argmax(y_test[idx])\n",
    "    ax.set_title(\"{} ({})\".format(cifar10_labels[pred_idx], cifar10_labels[true_idx]),\n",
    "                 color=(\"blue\" if pred_idx == true_idx else \"red\"))"
   ]
  }
 ],
 "metadata": {
  "kernelspec": {
   "display_name": "tensorflow",
   "language": "python",
   "name": "python3"
  },
  "language_info": {
   "codemirror_mode": {
    "name": "ipython",
    "version": 3
   },
   "file_extension": ".py",
   "mimetype": "text/x-python",
   "name": "python",
   "nbconvert_exporter": "python",
   "pygments_lexer": "ipython3",
   "version": "3.10.14"
  },
  "orig_nbformat": 4
 },
 "nbformat": 4,
 "nbformat_minor": 2
}
