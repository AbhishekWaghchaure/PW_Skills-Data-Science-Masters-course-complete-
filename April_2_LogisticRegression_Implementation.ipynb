{
 "cells": [
  {
   "cell_type": "code",
   "execution_count": 72,
   "metadata": {
    "ExecuteTime": {
     "start_time": "2023-04-22T13:34:03.736600Z",
     "end_time": "2023-04-22T13:34:03.865948Z"
    },
    "collapsed": true
   },
   "outputs": [],
   "source": [
    "from sklearn.datasets import load_iris"
   ]
  },
  {
   "cell_type": "code",
   "execution_count": 73,
   "metadata": {
    "ExecuteTime": {
     "start_time": "2023-04-22T13:34:03.740102Z",
     "end_time": "2023-04-22T13:34:03.939273Z"
    },
    "collapsed": false
   },
   "outputs": [],
   "source": [
    "dataset = load_iris()"
   ]
  },
  {
   "cell_type": "code",
   "execution_count": 74,
   "metadata": {
    "ExecuteTime": {
     "start_time": "2023-04-22T13:34:03.743764Z",
     "end_time": "2023-04-22T13:34:03.939442Z"
    },
    "collapsed": false
   },
   "outputs": [
    {
     "name": "stdout",
     "output_type": "stream",
     "text": [
      ".. _iris_dataset:\n",
      "\n",
      "Iris plants dataset\n",
      "--------------------\n",
      "\n",
      "**Data Set Characteristics:**\n",
      "\n",
      "    :Number of Instances: 150 (50 in each of three classes)\n",
      "    :Number of Attributes: 4 numeric, predictive attributes and the class\n",
      "    :Attribute Information:\n",
      "        - sepal length in cm\n",
      "        - sepal width in cm\n",
      "        - petal length in cm\n",
      "        - petal width in cm\n",
      "        - class:\n",
      "                - Iris-Setosa\n",
      "                - Iris-Versicolour\n",
      "                - Iris-Virginica\n",
      "                \n",
      "    :Summary Statistics:\n",
      "\n",
      "    ============== ==== ==== ======= ===== ====================\n",
      "                    Min  Max   Mean    SD   Class Correlation\n",
      "    ============== ==== ==== ======= ===== ====================\n",
      "    sepal length:   4.3  7.9   5.84   0.83    0.7826\n",
      "    sepal width:    2.0  4.4   3.05   0.43   -0.4194\n",
      "    petal length:   1.0  6.9   3.76   1.76    0.9490  (high!)\n",
      "    petal width:    0.1  2.5   1.20   0.76    0.9565  (high!)\n",
      "    ============== ==== ==== ======= ===== ====================\n",
      "\n",
      "    :Missing Attribute Values: None\n",
      "    :Class Distribution: 33.3% for each of 3 classes.\n",
      "    :Creator: R.A. Fisher\n",
      "    :Donor: Michael Marshall (MARSHALL%PLU@io.arc.nasa.gov)\n",
      "    :Date: July, 1988\n",
      "\n",
      "The famous Iris database, first used by Sir R.A. Fisher. The dataset is taken\n",
      "from Fisher's paper. Note that it's the same as in R, but not as in the UCI\n",
      "Machine Learning Repository, which has two wrong data points.\n",
      "\n",
      "This is perhaps the best known database to be found in the\n",
      "pattern recognition literature.  Fisher's paper is a classic in the field and\n",
      "is referenced frequently to this day.  (See Duda & Hart, for example.)  The\n",
      "data set contains 3 classes of 50 instances each, where each class refers to a\n",
      "type of iris plant.  One class is linearly separable from the other 2; the\n",
      "latter are NOT linearly separable from each other.\n",
      "\n",
      ".. topic:: References\n",
      "\n",
      "   - Fisher, R.A. \"The use of multiple measurements in taxonomic problems\"\n",
      "     Annual Eugenics, 7, Part II, 179-188 (1936); also in \"Contributions to\n",
      "     Mathematical Statistics\" (John Wiley, NY, 1950).\n",
      "   - Duda, R.O., & Hart, P.E. (1973) Pattern Classification and Scene Analysis.\n",
      "     (Q327.D83) John Wiley & Sons.  ISBN 0-471-22361-1.  See page 218.\n",
      "   - Dasarathy, B.V. (1980) \"Nosing Around the Neighborhood: A New System\n",
      "     Structure and Classification Rule for Recognition in Partially Exposed\n",
      "     Environments\".  IEEE Transactions on Pattern Analysis and Machine\n",
      "     Intelligence, Vol. PAMI-2, No. 1, 67-71.\n",
      "   - Gates, G.W. (1972) \"The Reduced Nearest Neighbor Rule\".  IEEE Transactions\n",
      "     on Information Theory, May 1972, 431-433.\n",
      "   - See also: 1988 MLC Proceedings, 54-64.  Cheeseman et al\"s AUTOCLASS II\n",
      "     conceptual clustering system finds 3 classes in the data.\n",
      "   - Many, many more ...\n"
     ]
    }
   ],
   "source": [
    "print(dataset.DESCR)"
   ]
  },
  {
   "cell_type": "code",
   "execution_count": 75,
   "metadata": {
    "ExecuteTime": {
     "start_time": "2023-04-22T13:34:03.749197Z",
     "end_time": "2023-04-22T13:34:03.939514Z"
    },
    "collapsed": false
   },
   "outputs": [
    {
     "data": {
      "text/plain": "dict_keys(['data', 'target', 'frame', 'target_names', 'DESCR', 'feature_names', 'filename', 'data_module'])"
     },
     "execution_count": 75,
     "metadata": {},
     "output_type": "execute_result"
    }
   ],
   "source": [
    "dataset.keys()"
   ]
  },
  {
   "cell_type": "code",
   "execution_count": 76,
   "metadata": {
    "ExecuteTime": {
     "start_time": "2023-04-22T13:34:03.754693Z",
     "end_time": "2023-04-22T13:34:03.939544Z"
    },
    "collapsed": false
   },
   "outputs": [],
   "source": [
    "import pandas as pd\n",
    "import numpy as np"
   ]
  },
  {
   "cell_type": "code",
   "execution_count": 77,
   "metadata": {
    "ExecuteTime": {
     "start_time": "2023-04-22T13:34:03.758283Z",
     "end_time": "2023-04-22T13:34:03.939573Z"
    },
    "collapsed": false
   },
   "outputs": [],
   "source": [
    "df = pd.DataFrame(dataset.data, columns=dataset.feature_names)"
   ]
  },
  {
   "cell_type": "code",
   "execution_count": 78,
   "metadata": {
    "ExecuteTime": {
     "start_time": "2023-04-22T13:34:03.775560Z",
     "end_time": "2023-04-22T13:34:04.055081Z"
    },
    "collapsed": false
   },
   "outputs": [
    {
     "data": {
      "text/plain": "     sepal length (cm)  sepal width (cm)  petal length (cm)  petal width (cm)\n0                  5.1               3.5                1.4               0.2\n1                  4.9               3.0                1.4               0.2\n2                  4.7               3.2                1.3               0.2\n3                  4.6               3.1                1.5               0.2\n4                  5.0               3.6                1.4               0.2\n..                 ...               ...                ...               ...\n145                6.7               3.0                5.2               2.3\n146                6.3               2.5                5.0               1.9\n147                6.5               3.0                5.2               2.0\n148                6.2               3.4                5.4               2.3\n149                5.9               3.0                5.1               1.8\n\n[150 rows x 4 columns]",
      "text/html": "<div>\n<style scoped>\n    .dataframe tbody tr th:only-of-type {\n        vertical-align: middle;\n    }\n\n    .dataframe tbody tr th {\n        vertical-align: top;\n    }\n\n    .dataframe thead th {\n        text-align: right;\n    }\n</style>\n<table border=\"1\" class=\"dataframe\">\n  <thead>\n    <tr style=\"text-align: right;\">\n      <th></th>\n      <th>sepal length (cm)</th>\n      <th>sepal width (cm)</th>\n      <th>petal length (cm)</th>\n      <th>petal width (cm)</th>\n    </tr>\n  </thead>\n  <tbody>\n    <tr>\n      <th>0</th>\n      <td>5.1</td>\n      <td>3.5</td>\n      <td>1.4</td>\n      <td>0.2</td>\n    </tr>\n    <tr>\n      <th>1</th>\n      <td>4.9</td>\n      <td>3.0</td>\n      <td>1.4</td>\n      <td>0.2</td>\n    </tr>\n    <tr>\n      <th>2</th>\n      <td>4.7</td>\n      <td>3.2</td>\n      <td>1.3</td>\n      <td>0.2</td>\n    </tr>\n    <tr>\n      <th>3</th>\n      <td>4.6</td>\n      <td>3.1</td>\n      <td>1.5</td>\n      <td>0.2</td>\n    </tr>\n    <tr>\n      <th>4</th>\n      <td>5.0</td>\n      <td>3.6</td>\n      <td>1.4</td>\n      <td>0.2</td>\n    </tr>\n    <tr>\n      <th>...</th>\n      <td>...</td>\n      <td>...</td>\n      <td>...</td>\n      <td>...</td>\n    </tr>\n    <tr>\n      <th>145</th>\n      <td>6.7</td>\n      <td>3.0</td>\n      <td>5.2</td>\n      <td>2.3</td>\n    </tr>\n    <tr>\n      <th>146</th>\n      <td>6.3</td>\n      <td>2.5</td>\n      <td>5.0</td>\n      <td>1.9</td>\n    </tr>\n    <tr>\n      <th>147</th>\n      <td>6.5</td>\n      <td>3.0</td>\n      <td>5.2</td>\n      <td>2.0</td>\n    </tr>\n    <tr>\n      <th>148</th>\n      <td>6.2</td>\n      <td>3.4</td>\n      <td>5.4</td>\n      <td>2.3</td>\n    </tr>\n    <tr>\n      <th>149</th>\n      <td>5.9</td>\n      <td>3.0</td>\n      <td>5.1</td>\n      <td>1.8</td>\n    </tr>\n  </tbody>\n</table>\n<p>150 rows × 4 columns</p>\n</div>"
     },
     "execution_count": 78,
     "metadata": {},
     "output_type": "execute_result"
    }
   ],
   "source": [
    "df"
   ]
  },
  {
   "cell_type": "code",
   "execution_count": 79,
   "metadata": {
    "ExecuteTime": {
     "start_time": "2023-04-22T13:34:03.781881Z",
     "end_time": "2023-04-22T13:34:04.055293Z"
    },
    "collapsed": false
   },
   "outputs": [
    {
     "name": "stdout",
     "output_type": "stream",
     "text": [
      "[0 0 0 0 0 0 0 0 0 0 0 0 0 0 0 0 0 0 0 0 0 0 0 0 0 0 0 0 0 0 0 0 0 0 0 0 0\n",
      " 0 0 0 0 0 0 0 0 0 0 0 0 0 1 1 1 1 1 1 1 1 1 1 1 1 1 1 1 1 1 1 1 1 1 1 1 1\n",
      " 1 1 1 1 1 1 1 1 1 1 1 1 1 1 1 1 1 1 1 1 1 1 1 1 1 1 2 2 2 2 2 2 2 2 2 2 2\n",
      " 2 2 2 2 2 2 2 2 2 2 2 2 2 2 2 2 2 2 2 2 2 2 2 2 2 2 2 2 2 2 2 2 2 2 2 2 2\n",
      " 2 2]\n"
     ]
    }
   ],
   "source": [
    "print(dataset.target)"
   ]
  },
  {
   "cell_type": "code",
   "execution_count": 80,
   "metadata": {
    "ExecuteTime": {
     "start_time": "2023-04-22T13:34:03.783851Z",
     "end_time": "2023-04-22T13:34:04.055338Z"
    },
    "collapsed": false
   },
   "outputs": [],
   "source": [
    "df['target'] = dataset.target"
   ]
  },
  {
   "cell_type": "code",
   "execution_count": 81,
   "metadata": {
    "ExecuteTime": {
     "start_time": "2023-04-22T13:34:03.785331Z",
     "end_time": "2023-04-22T13:34:04.056028Z"
    },
    "collapsed": false
   },
   "outputs": [
    {
     "data": {
      "text/plain": "   sepal length (cm)  sepal width (cm)  petal length (cm)  petal width (cm)  \\\n0                5.1               3.5                1.4               0.2   \n1                4.9               3.0                1.4               0.2   \n2                4.7               3.2                1.3               0.2   \n3                4.6               3.1                1.5               0.2   \n4                5.0               3.6                1.4               0.2   \n\n   target  \n0       0  \n1       0  \n2       0  \n3       0  \n4       0  ",
      "text/html": "<div>\n<style scoped>\n    .dataframe tbody tr th:only-of-type {\n        vertical-align: middle;\n    }\n\n    .dataframe tbody tr th {\n        vertical-align: top;\n    }\n\n    .dataframe thead th {\n        text-align: right;\n    }\n</style>\n<table border=\"1\" class=\"dataframe\">\n  <thead>\n    <tr style=\"text-align: right;\">\n      <th></th>\n      <th>sepal length (cm)</th>\n      <th>sepal width (cm)</th>\n      <th>petal length (cm)</th>\n      <th>petal width (cm)</th>\n      <th>target</th>\n    </tr>\n  </thead>\n  <tbody>\n    <tr>\n      <th>0</th>\n      <td>5.1</td>\n      <td>3.5</td>\n      <td>1.4</td>\n      <td>0.2</td>\n      <td>0</td>\n    </tr>\n    <tr>\n      <th>1</th>\n      <td>4.9</td>\n      <td>3.0</td>\n      <td>1.4</td>\n      <td>0.2</td>\n      <td>0</td>\n    </tr>\n    <tr>\n      <th>2</th>\n      <td>4.7</td>\n      <td>3.2</td>\n      <td>1.3</td>\n      <td>0.2</td>\n      <td>0</td>\n    </tr>\n    <tr>\n      <th>3</th>\n      <td>4.6</td>\n      <td>3.1</td>\n      <td>1.5</td>\n      <td>0.2</td>\n      <td>0</td>\n    </tr>\n    <tr>\n      <th>4</th>\n      <td>5.0</td>\n      <td>3.6</td>\n      <td>1.4</td>\n      <td>0.2</td>\n      <td>0</td>\n    </tr>\n  </tbody>\n</table>\n</div>"
     },
     "execution_count": 81,
     "metadata": {},
     "output_type": "execute_result"
    }
   ],
   "source": [
    "df.head()"
   ]
  },
  {
   "cell_type": "code",
   "execution_count": 82,
   "metadata": {
    "ExecuteTime": {
     "start_time": "2023-04-22T13:34:03.789630Z",
     "end_time": "2023-04-22T13:34:04.056225Z"
    },
    "collapsed": false
   },
   "outputs": [
    {
     "data": {
      "text/plain": "array([0, 1, 2])"
     },
     "execution_count": 82,
     "metadata": {},
     "output_type": "execute_result"
    }
   ],
   "source": [
    "df.target.unique()"
   ]
  },
  {
   "cell_type": "code",
   "execution_count": 83,
   "metadata": {
    "ExecuteTime": {
     "start_time": "2023-04-22T13:34:03.798162Z",
     "end_time": "2023-04-22T13:34:04.056294Z"
    },
    "collapsed": false
   },
   "outputs": [
    {
     "data": {
      "text/plain": "    sepal length (cm)  sepal width (cm)  petal length (cm)  petal width (cm)  \\\n0                 5.1               3.5                1.4               0.2   \n1                 4.9               3.0                1.4               0.2   \n2                 4.7               3.2                1.3               0.2   \n3                 4.6               3.1                1.5               0.2   \n4                 5.0               3.6                1.4               0.2   \n..                ...               ...                ...               ...   \n95                5.7               3.0                4.2               1.2   \n96                5.7               2.9                4.2               1.3   \n97                6.2               2.9                4.3               1.3   \n98                5.1               2.5                3.0               1.1   \n99                5.7               2.8                4.1               1.3   \n\n    target  \n0        0  \n1        0  \n2        0  \n3        0  \n4        0  \n..     ...  \n95       1  \n96       1  \n97       1  \n98       1  \n99       1  \n\n[100 rows x 5 columns]",
      "text/html": "<div>\n<style scoped>\n    .dataframe tbody tr th:only-of-type {\n        vertical-align: middle;\n    }\n\n    .dataframe tbody tr th {\n        vertical-align: top;\n    }\n\n    .dataframe thead th {\n        text-align: right;\n    }\n</style>\n<table border=\"1\" class=\"dataframe\">\n  <thead>\n    <tr style=\"text-align: right;\">\n      <th></th>\n      <th>sepal length (cm)</th>\n      <th>sepal width (cm)</th>\n      <th>petal length (cm)</th>\n      <th>petal width (cm)</th>\n      <th>target</th>\n    </tr>\n  </thead>\n  <tbody>\n    <tr>\n      <th>0</th>\n      <td>5.1</td>\n      <td>3.5</td>\n      <td>1.4</td>\n      <td>0.2</td>\n      <td>0</td>\n    </tr>\n    <tr>\n      <th>1</th>\n      <td>4.9</td>\n      <td>3.0</td>\n      <td>1.4</td>\n      <td>0.2</td>\n      <td>0</td>\n    </tr>\n    <tr>\n      <th>2</th>\n      <td>4.7</td>\n      <td>3.2</td>\n      <td>1.3</td>\n      <td>0.2</td>\n      <td>0</td>\n    </tr>\n    <tr>\n      <th>3</th>\n      <td>4.6</td>\n      <td>3.1</td>\n      <td>1.5</td>\n      <td>0.2</td>\n      <td>0</td>\n    </tr>\n    <tr>\n      <th>4</th>\n      <td>5.0</td>\n      <td>3.6</td>\n      <td>1.4</td>\n      <td>0.2</td>\n      <td>0</td>\n    </tr>\n    <tr>\n      <th>...</th>\n      <td>...</td>\n      <td>...</td>\n      <td>...</td>\n      <td>...</td>\n      <td>...</td>\n    </tr>\n    <tr>\n      <th>95</th>\n      <td>5.7</td>\n      <td>3.0</td>\n      <td>4.2</td>\n      <td>1.2</td>\n      <td>1</td>\n    </tr>\n    <tr>\n      <th>96</th>\n      <td>5.7</td>\n      <td>2.9</td>\n      <td>4.2</td>\n      <td>1.3</td>\n      <td>1</td>\n    </tr>\n    <tr>\n      <th>97</th>\n      <td>6.2</td>\n      <td>2.9</td>\n      <td>4.3</td>\n      <td>1.3</td>\n      <td>1</td>\n    </tr>\n    <tr>\n      <th>98</th>\n      <td>5.1</td>\n      <td>2.5</td>\n      <td>3.0</td>\n      <td>1.1</td>\n      <td>1</td>\n    </tr>\n    <tr>\n      <th>99</th>\n      <td>5.7</td>\n      <td>2.8</td>\n      <td>4.1</td>\n      <td>1.3</td>\n      <td>1</td>\n    </tr>\n  </tbody>\n</table>\n<p>100 rows × 5 columns</p>\n</div>"
     },
     "execution_count": 83,
     "metadata": {},
     "output_type": "execute_result"
    }
   ],
   "source": [
    "df[df['target'] != 2]"
   ]
  },
  {
   "cell_type": "code",
   "execution_count": 84,
   "metadata": {
    "ExecuteTime": {
     "start_time": "2023-04-22T13:34:03.802561Z",
     "end_time": "2023-04-22T13:34:04.056324Z"
    },
    "collapsed": false
   },
   "outputs": [],
   "source": [
    "df_copy = df[df['target'] != 2]"
   ]
  },
  {
   "cell_type": "code",
   "execution_count": 85,
   "metadata": {
    "ExecuteTime": {
     "start_time": "2023-04-22T13:34:03.808862Z",
     "end_time": "2023-04-22T13:34:04.056405Z"
    },
    "collapsed": false
   },
   "outputs": [
    {
     "data": {
      "text/plain": "array([0, 1])"
     },
     "execution_count": 85,
     "metadata": {},
     "output_type": "execute_result"
    }
   ],
   "source": [
    "df_copy['target'].unique()"
   ]
  },
  {
   "cell_type": "code",
   "execution_count": 86,
   "metadata": {
    "ExecuteTime": {
     "start_time": "2023-04-22T13:34:03.814846Z",
     "end_time": "2023-04-22T13:34:04.056611Z"
    },
    "collapsed": false
   },
   "outputs": [
    {
     "name": "stdout",
     "output_type": "stream",
     "text": [
      "<class 'pandas.core.frame.DataFrame'>\n",
      "Int64Index: 100 entries, 0 to 99\n",
      "Data columns (total 5 columns):\n",
      " #   Column             Non-Null Count  Dtype  \n",
      "---  ------             --------------  -----  \n",
      " 0   sepal length (cm)  100 non-null    float64\n",
      " 1   sepal width (cm)   100 non-null    float64\n",
      " 2   petal length (cm)  100 non-null    float64\n",
      " 3   petal width (cm)   100 non-null    float64\n",
      " 4   target             100 non-null    int64  \n",
      "dtypes: float64(4), int64(1)\n",
      "memory usage: 4.7 KB\n"
     ]
    }
   ],
   "source": [
    "df_copy.info()"
   ]
  },
  {
   "cell_type": "code",
   "execution_count": 87,
   "metadata": {
    "ExecuteTime": {
     "start_time": "2023-04-22T13:34:03.817858Z",
     "end_time": "2023-04-22T13:34:04.056985Z"
    },
    "collapsed": false
   },
   "outputs": [],
   "source": [
    "from sklearn.model_selection import train_test_split"
   ]
  },
  {
   "cell_type": "code",
   "execution_count": 88,
   "metadata": {
    "ExecuteTime": {
     "start_time": "2023-04-22T13:34:03.820882Z",
     "end_time": "2023-04-22T13:34:04.057298Z"
    },
    "collapsed": false
   },
   "outputs": [],
   "source": [
    "X = df_copy.iloc[:,:-1]\n",
    "y = df_copy.iloc[:,4:5]"
   ]
  },
  {
   "cell_type": "code",
   "execution_count": 89,
   "metadata": {
    "ExecuteTime": {
     "start_time": "2023-04-22T13:34:03.824068Z",
     "end_time": "2023-04-22T13:34:04.057427Z"
    },
    "collapsed": false
   },
   "outputs": [
    {
     "data": {
      "text/plain": "((100, 1), (100, 4))"
     },
     "execution_count": 89,
     "metadata": {},
     "output_type": "execute_result"
    }
   ],
   "source": [
    "y.shape,X.shape"
   ]
  },
  {
   "cell_type": "code",
   "execution_count": 90,
   "metadata": {
    "ExecuteTime": {
     "start_time": "2023-04-22T13:34:03.830207Z",
     "end_time": "2023-04-22T13:34:04.057505Z"
    },
    "collapsed": false
   },
   "outputs": [
    {
     "data": {
      "text/plain": "    target\n0        0\n1        0\n2        0\n3        0\n4        0\n..     ...\n95       1\n96       1\n97       1\n98       1\n99       1\n\n[100 rows x 1 columns]",
      "text/html": "<div>\n<style scoped>\n    .dataframe tbody tr th:only-of-type {\n        vertical-align: middle;\n    }\n\n    .dataframe tbody tr th {\n        vertical-align: top;\n    }\n\n    .dataframe thead th {\n        text-align: right;\n    }\n</style>\n<table border=\"1\" class=\"dataframe\">\n  <thead>\n    <tr style=\"text-align: right;\">\n      <th></th>\n      <th>target</th>\n    </tr>\n  </thead>\n  <tbody>\n    <tr>\n      <th>0</th>\n      <td>0</td>\n    </tr>\n    <tr>\n      <th>1</th>\n      <td>0</td>\n    </tr>\n    <tr>\n      <th>2</th>\n      <td>0</td>\n    </tr>\n    <tr>\n      <th>3</th>\n      <td>0</td>\n    </tr>\n    <tr>\n      <th>4</th>\n      <td>0</td>\n    </tr>\n    <tr>\n      <th>...</th>\n      <td>...</td>\n    </tr>\n    <tr>\n      <th>95</th>\n      <td>1</td>\n    </tr>\n    <tr>\n      <th>96</th>\n      <td>1</td>\n    </tr>\n    <tr>\n      <th>97</th>\n      <td>1</td>\n    </tr>\n    <tr>\n      <th>98</th>\n      <td>1</td>\n    </tr>\n    <tr>\n      <th>99</th>\n      <td>1</td>\n    </tr>\n  </tbody>\n</table>\n<p>100 rows × 1 columns</p>\n</div>"
     },
     "execution_count": 90,
     "metadata": {},
     "output_type": "execute_result"
    }
   ],
   "source": [
    "y"
   ]
  },
  {
   "cell_type": "code",
   "execution_count": 91,
   "metadata": {
    "ExecuteTime": {
     "start_time": "2023-04-22T13:34:03.834402Z",
     "end_time": "2023-04-22T13:34:04.057555Z"
    },
    "collapsed": false
   },
   "outputs": [],
   "source": [
    "X_train,X_test,y_train,y_test = train_test_split(X,y,test_size=0.20,random_state=42)"
   ]
  },
  {
   "cell_type": "code",
   "execution_count": 92,
   "metadata": {
    "ExecuteTime": {
     "start_time": "2023-04-22T13:34:03.843300Z",
     "end_time": "2023-04-22T13:34:04.057644Z"
    },
    "collapsed": false
   },
   "outputs": [
    {
     "data": {
      "text/plain": "    sepal length (cm)  sepal width (cm)  petal length (cm)  petal width (cm)\n83                6.0               2.7                5.1               1.6\n53                5.5               2.3                4.0               1.3\n70                5.9               3.2                4.8               1.8\n45                4.8               3.0                1.4               0.3\n44                5.1               3.8                1.9               0.4\n39                5.1               3.4                1.5               0.2\n22                4.6               3.6                1.0               0.2\n80                5.5               2.4                3.8               1.1\n10                5.4               3.7                1.5               0.2\n0                 5.1               3.5                1.4               0.2\n18                5.7               3.8                1.7               0.3\n30                4.8               3.1                1.6               0.2\n73                6.1               2.8                4.7               1.2\n33                5.5               4.2                1.4               0.2\n90                5.5               2.6                4.4               1.2\n4                 5.0               3.6                1.4               0.2\n76                6.8               2.8                4.8               1.4\n77                6.7               3.0                5.0               1.7\n12                4.8               3.0                1.4               0.1\n31                5.4               3.4                1.5               0.4",
      "text/html": "<div>\n<style scoped>\n    .dataframe tbody tr th:only-of-type {\n        vertical-align: middle;\n    }\n\n    .dataframe tbody tr th {\n        vertical-align: top;\n    }\n\n    .dataframe thead th {\n        text-align: right;\n    }\n</style>\n<table border=\"1\" class=\"dataframe\">\n  <thead>\n    <tr style=\"text-align: right;\">\n      <th></th>\n      <th>sepal length (cm)</th>\n      <th>sepal width (cm)</th>\n      <th>petal length (cm)</th>\n      <th>petal width (cm)</th>\n    </tr>\n  </thead>\n  <tbody>\n    <tr>\n      <th>83</th>\n      <td>6.0</td>\n      <td>2.7</td>\n      <td>5.1</td>\n      <td>1.6</td>\n    </tr>\n    <tr>\n      <th>53</th>\n      <td>5.5</td>\n      <td>2.3</td>\n      <td>4.0</td>\n      <td>1.3</td>\n    </tr>\n    <tr>\n      <th>70</th>\n      <td>5.9</td>\n      <td>3.2</td>\n      <td>4.8</td>\n      <td>1.8</td>\n    </tr>\n    <tr>\n      <th>45</th>\n      <td>4.8</td>\n      <td>3.0</td>\n      <td>1.4</td>\n      <td>0.3</td>\n    </tr>\n    <tr>\n      <th>44</th>\n      <td>5.1</td>\n      <td>3.8</td>\n      <td>1.9</td>\n      <td>0.4</td>\n    </tr>\n    <tr>\n      <th>39</th>\n      <td>5.1</td>\n      <td>3.4</td>\n      <td>1.5</td>\n      <td>0.2</td>\n    </tr>\n    <tr>\n      <th>22</th>\n      <td>4.6</td>\n      <td>3.6</td>\n      <td>1.0</td>\n      <td>0.2</td>\n    </tr>\n    <tr>\n      <th>80</th>\n      <td>5.5</td>\n      <td>2.4</td>\n      <td>3.8</td>\n      <td>1.1</td>\n    </tr>\n    <tr>\n      <th>10</th>\n      <td>5.4</td>\n      <td>3.7</td>\n      <td>1.5</td>\n      <td>0.2</td>\n    </tr>\n    <tr>\n      <th>0</th>\n      <td>5.1</td>\n      <td>3.5</td>\n      <td>1.4</td>\n      <td>0.2</td>\n    </tr>\n    <tr>\n      <th>18</th>\n      <td>5.7</td>\n      <td>3.8</td>\n      <td>1.7</td>\n      <td>0.3</td>\n    </tr>\n    <tr>\n      <th>30</th>\n      <td>4.8</td>\n      <td>3.1</td>\n      <td>1.6</td>\n      <td>0.2</td>\n    </tr>\n    <tr>\n      <th>73</th>\n      <td>6.1</td>\n      <td>2.8</td>\n      <td>4.7</td>\n      <td>1.2</td>\n    </tr>\n    <tr>\n      <th>33</th>\n      <td>5.5</td>\n      <td>4.2</td>\n      <td>1.4</td>\n      <td>0.2</td>\n    </tr>\n    <tr>\n      <th>90</th>\n      <td>5.5</td>\n      <td>2.6</td>\n      <td>4.4</td>\n      <td>1.2</td>\n    </tr>\n    <tr>\n      <th>4</th>\n      <td>5.0</td>\n      <td>3.6</td>\n      <td>1.4</td>\n      <td>0.2</td>\n    </tr>\n    <tr>\n      <th>76</th>\n      <td>6.8</td>\n      <td>2.8</td>\n      <td>4.8</td>\n      <td>1.4</td>\n    </tr>\n    <tr>\n      <th>77</th>\n      <td>6.7</td>\n      <td>3.0</td>\n      <td>5.0</td>\n      <td>1.7</td>\n    </tr>\n    <tr>\n      <th>12</th>\n      <td>4.8</td>\n      <td>3.0</td>\n      <td>1.4</td>\n      <td>0.1</td>\n    </tr>\n    <tr>\n      <th>31</th>\n      <td>5.4</td>\n      <td>3.4</td>\n      <td>1.5</td>\n      <td>0.4</td>\n    </tr>\n  </tbody>\n</table>\n</div>"
     },
     "execution_count": 92,
     "metadata": {},
     "output_type": "execute_result"
    }
   ],
   "source": [
    "X_test"
   ]
  },
  {
   "cell_type": "code",
   "execution_count": 93,
   "metadata": {
    "ExecuteTime": {
     "start_time": "2023-04-22T13:34:03.846888Z",
     "end_time": "2023-04-22T13:34:04.057675Z"
    },
    "collapsed": false
   },
   "outputs": [],
   "source": [
    "from sklearn.linear_model import LogisticRegression"
   ]
  },
  {
   "cell_type": "code",
   "execution_count": 94,
   "metadata": {
    "ExecuteTime": {
     "start_time": "2023-04-22T13:34:03.849525Z",
     "end_time": "2023-04-22T13:34:04.057706Z"
    },
    "collapsed": false
   },
   "outputs": [],
   "source": [
    "logistic_regressor = LogisticRegression()"
   ]
  },
  {
   "cell_type": "code",
   "execution_count": 95,
   "metadata": {
    "ExecuteTime": {
     "start_time": "2023-04-22T13:34:03.853368Z",
     "end_time": "2023-04-22T13:34:04.057772Z"
    },
    "collapsed": false
   },
   "outputs": [
    {
     "data": {
      "text/plain": "LogisticRegression()",
      "text/html": "<style>#sk-container-id-5 {color: black;background-color: white;}#sk-container-id-5 pre{padding: 0;}#sk-container-id-5 div.sk-toggleable {background-color: white;}#sk-container-id-5 label.sk-toggleable__label {cursor: pointer;display: block;width: 100%;margin-bottom: 0;padding: 0.3em;box-sizing: border-box;text-align: center;}#sk-container-id-5 label.sk-toggleable__label-arrow:before {content: \"▸\";float: left;margin-right: 0.25em;color: #696969;}#sk-container-id-5 label.sk-toggleable__label-arrow:hover:before {color: black;}#sk-container-id-5 div.sk-estimator:hover label.sk-toggleable__label-arrow:before {color: black;}#sk-container-id-5 div.sk-toggleable__content {max-height: 0;max-width: 0;overflow: hidden;text-align: left;background-color: #f0f8ff;}#sk-container-id-5 div.sk-toggleable__content pre {margin: 0.2em;color: black;border-radius: 0.25em;background-color: #f0f8ff;}#sk-container-id-5 input.sk-toggleable__control:checked~div.sk-toggleable__content {max-height: 200px;max-width: 100%;overflow: auto;}#sk-container-id-5 input.sk-toggleable__control:checked~label.sk-toggleable__label-arrow:before {content: \"▾\";}#sk-container-id-5 div.sk-estimator input.sk-toggleable__control:checked~label.sk-toggleable__label {background-color: #d4ebff;}#sk-container-id-5 div.sk-label input.sk-toggleable__control:checked~label.sk-toggleable__label {background-color: #d4ebff;}#sk-container-id-5 input.sk-hidden--visually {border: 0;clip: rect(1px 1px 1px 1px);clip: rect(1px, 1px, 1px, 1px);height: 1px;margin: -1px;overflow: hidden;padding: 0;position: absolute;width: 1px;}#sk-container-id-5 div.sk-estimator {font-family: monospace;background-color: #f0f8ff;border: 1px dotted black;border-radius: 0.25em;box-sizing: border-box;margin-bottom: 0.5em;}#sk-container-id-5 div.sk-estimator:hover {background-color: #d4ebff;}#sk-container-id-5 div.sk-parallel-item::after {content: \"\";width: 100%;border-bottom: 1px solid gray;flex-grow: 1;}#sk-container-id-5 div.sk-label:hover label.sk-toggleable__label {background-color: #d4ebff;}#sk-container-id-5 div.sk-serial::before {content: \"\";position: absolute;border-left: 1px solid gray;box-sizing: border-box;top: 0;bottom: 0;left: 50%;z-index: 0;}#sk-container-id-5 div.sk-serial {display: flex;flex-direction: column;align-items: center;background-color: white;padding-right: 0.2em;padding-left: 0.2em;position: relative;}#sk-container-id-5 div.sk-item {position: relative;z-index: 1;}#sk-container-id-5 div.sk-parallel {display: flex;align-items: stretch;justify-content: center;background-color: white;position: relative;}#sk-container-id-5 div.sk-item::before, #sk-container-id-5 div.sk-parallel-item::before {content: \"\";position: absolute;border-left: 1px solid gray;box-sizing: border-box;top: 0;bottom: 0;left: 50%;z-index: -1;}#sk-container-id-5 div.sk-parallel-item {display: flex;flex-direction: column;z-index: 1;position: relative;background-color: white;}#sk-container-id-5 div.sk-parallel-item:first-child::after {align-self: flex-end;width: 50%;}#sk-container-id-5 div.sk-parallel-item:last-child::after {align-self: flex-start;width: 50%;}#sk-container-id-5 div.sk-parallel-item:only-child::after {width: 0;}#sk-container-id-5 div.sk-dashed-wrapped {border: 1px dashed gray;margin: 0 0.4em 0.5em 0.4em;box-sizing: border-box;padding-bottom: 0.4em;background-color: white;}#sk-container-id-5 div.sk-label label {font-family: monospace;font-weight: bold;display: inline-block;line-height: 1.2em;}#sk-container-id-5 div.sk-label-container {text-align: center;}#sk-container-id-5 div.sk-container {/* jupyter's `normalize.less` sets `[hidden] { display: none; }` but bootstrap.min.css set `[hidden] { display: none !important; }` so we also need the `!important` here to be able to override the default hidden behavior on the sphinx rendered scikit-learn.org. See: https://github.com/scikit-learn/scikit-learn/issues/21755 */display: inline-block !important;position: relative;}#sk-container-id-5 div.sk-text-repr-fallback {display: none;}</style><div id=\"sk-container-id-5\" class=\"sk-top-container\"><div class=\"sk-text-repr-fallback\"><pre>LogisticRegression()</pre><b>In a Jupyter environment, please rerun this cell to show the HTML representation or trust the notebook. <br />On GitHub, the HTML representation is unable to render, please try loading this page with nbviewer.org.</b></div><div class=\"sk-container\" hidden><div class=\"sk-item\"><div class=\"sk-estimator sk-toggleable\"><input class=\"sk-toggleable__control sk-hidden--visually\" id=\"sk-estimator-id-5\" type=\"checkbox\" checked><label for=\"sk-estimator-id-5\" class=\"sk-toggleable__label sk-toggleable__label-arrow\">LogisticRegression</label><div class=\"sk-toggleable__content\"><pre>LogisticRegression()</pre></div></div></div></div></div>"
     },
     "execution_count": 95,
     "metadata": {},
     "output_type": "execute_result"
    }
   ],
   "source": [
    "logistic_regressor"
   ]
  },
  {
   "cell_type": "code",
   "execution_count": 96,
   "metadata": {
    "ExecuteTime": {
     "start_time": "2023-04-22T13:34:03.859031Z",
     "end_time": "2023-04-22T13:34:04.057894Z"
    },
    "collapsed": false
   },
   "outputs": [
    {
     "name": "stderr",
     "output_type": "stream",
     "text": [
      "/Users/abhishekwaghchaure/opt/anaconda3/envs/main1/lib/python3.10/site-packages/sklearn/utils/validation.py:1143: DataConversionWarning: A column-vector y was passed when a 1d array was expected. Please change the shape of y to (n_samples, ), for example using ravel().\n",
      "  y = column_or_1d(y, warn=True)\n"
     ]
    },
    {
     "data": {
      "text/plain": "LogisticRegression()",
      "text/html": "<style>#sk-container-id-6 {color: black;background-color: white;}#sk-container-id-6 pre{padding: 0;}#sk-container-id-6 div.sk-toggleable {background-color: white;}#sk-container-id-6 label.sk-toggleable__label {cursor: pointer;display: block;width: 100%;margin-bottom: 0;padding: 0.3em;box-sizing: border-box;text-align: center;}#sk-container-id-6 label.sk-toggleable__label-arrow:before {content: \"▸\";float: left;margin-right: 0.25em;color: #696969;}#sk-container-id-6 label.sk-toggleable__label-arrow:hover:before {color: black;}#sk-container-id-6 div.sk-estimator:hover label.sk-toggleable__label-arrow:before {color: black;}#sk-container-id-6 div.sk-toggleable__content {max-height: 0;max-width: 0;overflow: hidden;text-align: left;background-color: #f0f8ff;}#sk-container-id-6 div.sk-toggleable__content pre {margin: 0.2em;color: black;border-radius: 0.25em;background-color: #f0f8ff;}#sk-container-id-6 input.sk-toggleable__control:checked~div.sk-toggleable__content {max-height: 200px;max-width: 100%;overflow: auto;}#sk-container-id-6 input.sk-toggleable__control:checked~label.sk-toggleable__label-arrow:before {content: \"▾\";}#sk-container-id-6 div.sk-estimator input.sk-toggleable__control:checked~label.sk-toggleable__label {background-color: #d4ebff;}#sk-container-id-6 div.sk-label input.sk-toggleable__control:checked~label.sk-toggleable__label {background-color: #d4ebff;}#sk-container-id-6 input.sk-hidden--visually {border: 0;clip: rect(1px 1px 1px 1px);clip: rect(1px, 1px, 1px, 1px);height: 1px;margin: -1px;overflow: hidden;padding: 0;position: absolute;width: 1px;}#sk-container-id-6 div.sk-estimator {font-family: monospace;background-color: #f0f8ff;border: 1px dotted black;border-radius: 0.25em;box-sizing: border-box;margin-bottom: 0.5em;}#sk-container-id-6 div.sk-estimator:hover {background-color: #d4ebff;}#sk-container-id-6 div.sk-parallel-item::after {content: \"\";width: 100%;border-bottom: 1px solid gray;flex-grow: 1;}#sk-container-id-6 div.sk-label:hover label.sk-toggleable__label {background-color: #d4ebff;}#sk-container-id-6 div.sk-serial::before {content: \"\";position: absolute;border-left: 1px solid gray;box-sizing: border-box;top: 0;bottom: 0;left: 50%;z-index: 0;}#sk-container-id-6 div.sk-serial {display: flex;flex-direction: column;align-items: center;background-color: white;padding-right: 0.2em;padding-left: 0.2em;position: relative;}#sk-container-id-6 div.sk-item {position: relative;z-index: 1;}#sk-container-id-6 div.sk-parallel {display: flex;align-items: stretch;justify-content: center;background-color: white;position: relative;}#sk-container-id-6 div.sk-item::before, #sk-container-id-6 div.sk-parallel-item::before {content: \"\";position: absolute;border-left: 1px solid gray;box-sizing: border-box;top: 0;bottom: 0;left: 50%;z-index: -1;}#sk-container-id-6 div.sk-parallel-item {display: flex;flex-direction: column;z-index: 1;position: relative;background-color: white;}#sk-container-id-6 div.sk-parallel-item:first-child::after {align-self: flex-end;width: 50%;}#sk-container-id-6 div.sk-parallel-item:last-child::after {align-self: flex-start;width: 50%;}#sk-container-id-6 div.sk-parallel-item:only-child::after {width: 0;}#sk-container-id-6 div.sk-dashed-wrapped {border: 1px dashed gray;margin: 0 0.4em 0.5em 0.4em;box-sizing: border-box;padding-bottom: 0.4em;background-color: white;}#sk-container-id-6 div.sk-label label {font-family: monospace;font-weight: bold;display: inline-block;line-height: 1.2em;}#sk-container-id-6 div.sk-label-container {text-align: center;}#sk-container-id-6 div.sk-container {/* jupyter's `normalize.less` sets `[hidden] { display: none; }` but bootstrap.min.css set `[hidden] { display: none !important; }` so we also need the `!important` here to be able to override the default hidden behavior on the sphinx rendered scikit-learn.org. See: https://github.com/scikit-learn/scikit-learn/issues/21755 */display: inline-block !important;position: relative;}#sk-container-id-6 div.sk-text-repr-fallback {display: none;}</style><div id=\"sk-container-id-6\" class=\"sk-top-container\"><div class=\"sk-text-repr-fallback\"><pre>LogisticRegression()</pre><b>In a Jupyter environment, please rerun this cell to show the HTML representation or trust the notebook. <br />On GitHub, the HTML representation is unable to render, please try loading this page with nbviewer.org.</b></div><div class=\"sk-container\" hidden><div class=\"sk-item\"><div class=\"sk-estimator sk-toggleable\"><input class=\"sk-toggleable__control sk-hidden--visually\" id=\"sk-estimator-id-6\" type=\"checkbox\" checked><label for=\"sk-estimator-id-6\" class=\"sk-toggleable__label sk-toggleable__label-arrow\">LogisticRegression</label><div class=\"sk-toggleable__content\"><pre>LogisticRegression()</pre></div></div></div></div></div>"
     },
     "execution_count": 96,
     "metadata": {},
     "output_type": "execute_result"
    }
   ],
   "source": [
    "logistic_regressor.fit(X_train,y_train)"
   ]
  },
  {
   "cell_type": "code",
   "execution_count": 97,
   "metadata": {
    "ExecuteTime": {
     "start_time": "2023-04-22T13:34:03.867584Z",
     "end_time": "2023-04-22T13:34:04.059609Z"
    },
    "collapsed": false
   },
   "outputs": [],
   "source": [
    "y_pred = logistic_regressor.predict(X_test)"
   ]
  },
  {
   "cell_type": "code",
   "execution_count": 98,
   "metadata": {
    "ExecuteTime": {
     "start_time": "2023-04-22T13:34:03.872626Z",
     "end_time": "2023-04-22T13:34:04.059957Z"
    },
    "collapsed": false
   },
   "outputs": [
    {
     "data": {
      "text/plain": "array([1, 1, 1, 0, 0, 0, 0, 1, 0, 0, 0, 0, 1, 0, 1, 0, 1, 1, 0, 0])"
     },
     "execution_count": 98,
     "metadata": {},
     "output_type": "execute_result"
    }
   ],
   "source": [
    "y_pred"
   ]
  },
  {
   "cell_type": "code",
   "execution_count": 99,
   "metadata": {
    "ExecuteTime": {
     "start_time": "2023-04-22T13:34:03.877211Z",
     "end_time": "2023-04-22T13:34:04.060187Z"
    },
    "collapsed": false
   },
   "outputs": [],
   "source": [
    "from sklearn.metrics import confusion_matrix,accuracy_score,classification_report"
   ]
  },
  {
   "cell_type": "code",
   "execution_count": 100,
   "metadata": {
    "ExecuteTime": {
     "start_time": "2023-04-22T13:34:03.883253Z",
     "end_time": "2023-04-22T13:34:04.060309Z"
    },
    "collapsed": false
   },
   "outputs": [
    {
     "data": {
      "text/plain": "array([[12,  0],\n       [ 0,  8]])"
     },
     "execution_count": 100,
     "metadata": {},
     "output_type": "execute_result"
    }
   ],
   "source": [
    "confusion_matrix(y_test,y_pred)"
   ]
  },
  {
   "cell_type": "code",
   "execution_count": 101,
   "metadata": {
    "ExecuteTime": {
     "start_time": "2023-04-22T13:34:03.888457Z",
     "end_time": "2023-04-22T13:34:04.060414Z"
    },
    "collapsed": false
   },
   "outputs": [
    {
     "name": "stdout",
     "output_type": "stream",
     "text": [
      "1.0\n"
     ]
    }
   ],
   "source": [
    "print(accuracy_score(y_test,y_pred))"
   ]
  },
  {
   "cell_type": "code",
   "execution_count": 102,
   "metadata": {
    "ExecuteTime": {
     "start_time": "2023-04-22T13:34:03.893095Z",
     "end_time": "2023-04-22T13:34:04.060497Z"
    },
    "collapsed": false
   },
   "outputs": [
    {
     "name": "stdout",
     "output_type": "stream",
     "text": [
      "              precision    recall  f1-score   support\n",
      "\n",
      "           0       1.00      1.00      1.00        12\n",
      "           1       1.00      1.00      1.00         8\n",
      "\n",
      "    accuracy                           1.00        20\n",
      "   macro avg       1.00      1.00      1.00        20\n",
      "weighted avg       1.00      1.00      1.00        20\n",
      "\n"
     ]
    }
   ],
   "source": [
    "print(classification_report(y_test,y_pred))"
   ]
  },
  {
   "cell_type": "markdown",
   "metadata": {
    "collapsed": false
   },
   "source": [
    "K Fold Cross Validation"
   ]
  },
  {
   "cell_type": "code",
   "execution_count": 103,
   "metadata": {
    "ExecuteTime": {
     "start_time": "2023-04-22T13:34:03.901754Z",
     "end_time": "2023-04-22T13:34:04.060550Z"
    },
    "collapsed": false
   },
   "outputs": [],
   "source": [
    "from sklearn.model_selection import KFold"
   ]
  },
  {
   "cell_type": "code",
   "execution_count": 104,
   "metadata": {
    "ExecuteTime": {
     "start_time": "2023-04-22T13:34:03.906072Z",
     "end_time": "2023-04-22T13:34:04.060585Z"
    },
    "collapsed": false
   },
   "outputs": [],
   "source": [
    "cv = KFold(n_splits=5, shuffle=True)"
   ]
  },
  {
   "cell_type": "code",
   "execution_count": 105,
   "metadata": {
    "ExecuteTime": {
     "start_time": "2023-04-22T13:34:03.909579Z",
     "end_time": "2023-04-22T13:34:04.060664Z"
    },
    "collapsed": false
   },
   "outputs": [
    {
     "data": {
      "text/plain": "KFold(n_splits=5, random_state=None, shuffle=True)"
     },
     "execution_count": 105,
     "metadata": {},
     "output_type": "execute_result"
    }
   ],
   "source": [
    "cv"
   ]
  },
  {
   "cell_type": "code",
   "execution_count": 106,
   "metadata": {
    "ExecuteTime": {
     "start_time": "2023-04-22T13:34:03.912821Z",
     "end_time": "2023-04-22T13:34:04.060705Z"
    },
    "collapsed": false
   },
   "outputs": [],
   "source": [
    "from sklearn.model_selection import cross_val_score"
   ]
  },
  {
   "cell_type": "code",
   "execution_count": 107,
   "metadata": {
    "ExecuteTime": {
     "start_time": "2023-04-22T13:34:03.918432Z",
     "end_time": "2023-04-22T13:34:04.062150Z"
    },
    "collapsed": false
   },
   "outputs": [
    {
     "name": "stderr",
     "output_type": "stream",
     "text": [
      "/Users/abhishekwaghchaure/opt/anaconda3/envs/main1/lib/python3.10/site-packages/sklearn/utils/validation.py:1143: DataConversionWarning: A column-vector y was passed when a 1d array was expected. Please change the shape of y to (n_samples, ), for example using ravel().\n",
      "  y = column_or_1d(y, warn=True)\n",
      "/Users/abhishekwaghchaure/opt/anaconda3/envs/main1/lib/python3.10/site-packages/sklearn/utils/validation.py:1143: DataConversionWarning: A column-vector y was passed when a 1d array was expected. Please change the shape of y to (n_samples, ), for example using ravel().\n",
      "  y = column_or_1d(y, warn=True)\n",
      "/Users/abhishekwaghchaure/opt/anaconda3/envs/main1/lib/python3.10/site-packages/sklearn/utils/validation.py:1143: DataConversionWarning: A column-vector y was passed when a 1d array was expected. Please change the shape of y to (n_samples, ), for example using ravel().\n",
      "  y = column_or_1d(y, warn=True)\n",
      "/Users/abhishekwaghchaure/opt/anaconda3/envs/main1/lib/python3.10/site-packages/sklearn/utils/validation.py:1143: DataConversionWarning: A column-vector y was passed when a 1d array was expected. Please change the shape of y to (n_samples, ), for example using ravel().\n",
      "  y = column_or_1d(y, warn=True)\n",
      "/Users/abhishekwaghchaure/opt/anaconda3/envs/main1/lib/python3.10/site-packages/sklearn/utils/validation.py:1143: DataConversionWarning: A column-vector y was passed when a 1d array was expected. Please change the shape of y to (n_samples, ), for example using ravel().\n",
      "  y = column_or_1d(y, warn=True)\n"
     ]
    }
   ],
   "source": [
    "scores= cross_val_score(logistic_regressor, X_train, y_train, scoring='accuracy', cv = cv)"
   ]
  },
  {
   "cell_type": "code",
   "execution_count": 108,
   "metadata": {
    "ExecuteTime": {
     "start_time": "2023-04-22T13:34:03.952985Z",
     "end_time": "2023-04-22T13:34:04.062273Z"
    },
    "collapsed": false
   },
   "outputs": [
    {
     "data": {
      "text/plain": "1.0"
     },
     "execution_count": 108,
     "metadata": {},
     "output_type": "execute_result"
    }
   ],
   "source": [
    "np.mean(scores)"
   ]
  },
  {
   "cell_type": "code",
   "execution_count": 109,
   "metadata": {
    "ExecuteTime": {
     "start_time": "2023-04-22T13:34:03.956058Z",
     "end_time": "2023-04-22T13:34:04.062304Z"
    },
    "collapsed": false
   },
   "outputs": [],
   "source": [
    "from sklearn.datasets import make_classification"
   ]
  },
  {
   "cell_type": "code",
   "execution_count": 110,
   "metadata": {
    "ExecuteTime": {
     "start_time": "2023-04-22T13:34:03.960529Z",
     "end_time": "2023-04-22T13:34:04.062333Z"
    },
    "collapsed": false
   },
   "outputs": [],
   "source": [
    "X, y = make_classification(n_samples=1000, n_features=10, n_informative=5, n_redundant=5, n_classes=2, random_state=1)"
   ]
  },
  {
   "cell_type": "code",
   "execution_count": 111,
   "metadata": {
    "ExecuteTime": {
     "start_time": "2023-04-22T13:34:03.964787Z",
     "end_time": "2023-04-22T13:34:04.151395Z"
    },
    "collapsed": false
   },
   "outputs": [
    {
     "data": {
      "text/plain": "array([[ 2.56999479, -0.13019997,  3.16075093, ..., -1.93094078,\n         3.26130366,  2.05692145],\n       [ 0.34129317,  2.51321418, -0.80416572, ...,  6.24734437,\n        -1.92769365,  2.9503149 ],\n       [ 2.27539972,  3.36561455,  0.17164362, ...,  2.74693781,\n         0.13492444,  2.00339547],\n       ...,\n       [ 0.5234359 ,  1.90466429,  0.93243365, ...,  1.53945231,\n         1.90646166,  1.99458587],\n       [ 1.33747921,  3.25859684,  0.78792366, ...,  5.18788314,\n        -0.82071083,  3.51411431],\n       [-0.98534299,  0.83919047,  2.5820803 , ...,  3.04705685,\n         0.66885641,  3.32838496]])"
     },
     "execution_count": 111,
     "metadata": {},
     "output_type": "execute_result"
    }
   ],
   "source": [
    "X"
   ]
  },
  {
   "cell_type": "code",
   "execution_count": 112,
   "metadata": {
    "ExecuteTime": {
     "start_time": "2023-04-22T13:34:03.975922Z",
     "end_time": "2023-04-22T13:34:04.151606Z"
    },
    "collapsed": false
   },
   "outputs": [
    {
     "data": {
      "text/plain": "array([1, 0, 0, 1, 0, 1, 1, 0, 0, 0, 1, 0, 1, 1, 0, 0, 1, 1, 1, 0, 0, 1,\n       1, 0, 1, 1, 1, 0, 0, 1, 1, 0, 1, 0, 1, 1, 1, 0, 0, 0, 0, 0, 0, 1,\n       0, 1, 0, 1, 1, 1, 0, 1, 1, 0, 1, 1, 0, 1, 0, 0, 0, 1, 0, 0, 0, 0,\n       1, 1, 0, 0, 0, 1, 0, 0, 1, 0, 0, 1, 1, 0, 1, 0, 1, 1, 1, 0, 1, 0,\n       0, 1, 0, 0, 0, 1, 0, 1, 1, 1, 0, 1, 1, 1, 1, 0, 1, 0, 1, 1, 0, 0,\n       1, 0, 1, 0, 1, 0, 1, 1, 1, 1, 1, 0, 1, 0, 0, 1, 0, 0, 1, 0, 1, 0,\n       0, 0, 1, 1, 0, 0, 0, 0, 0, 1, 1, 1, 0, 1, 0, 1, 1, 1, 1, 1, 0, 1,\n       1, 0, 1, 1, 0, 0, 0, 0, 0, 0, 1, 0, 1, 1, 1, 0, 0, 0, 0, 1, 1, 0,\n       1, 0, 1, 1, 1, 0, 0, 0, 1, 1, 1, 1, 1, 1, 0, 1, 1, 0, 1, 1, 0, 0,\n       1, 1, 0, 0, 1, 0, 0, 1, 1, 1, 1, 0, 1, 1, 1, 1, 0, 0, 1, 1, 1, 0,\n       0, 1, 1, 1, 0, 0, 0, 1, 1, 1, 1, 0, 0, 1, 0, 1, 1, 0, 1, 0, 0, 1,\n       0, 0, 1, 0, 0, 1, 0, 1, 1, 0, 0, 1, 0, 0, 1, 1, 0, 1, 1, 0, 1, 0,\n       1, 1, 1, 1, 0, 1, 0, 1, 1, 0, 1, 0, 1, 1, 0, 1, 0, 1, 1, 1, 1, 0,\n       0, 0, 0, 0, 0, 1, 1, 1, 0, 1, 1, 1, 0, 1, 1, 1, 0, 0, 1, 0, 1, 1,\n       0, 1, 0, 0, 0, 1, 1, 1, 1, 0, 0, 1, 0, 1, 0, 1, 0, 0, 0, 1, 0, 1,\n       0, 0, 0, 0, 1, 0, 0, 0, 0, 0, 1, 1, 0, 0, 1, 0, 0, 1, 1, 0, 0, 0,\n       0, 1, 1, 1, 1, 1, 0, 1, 1, 0, 1, 1, 1, 1, 1, 1, 0, 0, 1, 1, 1, 0,\n       1, 0, 0, 0, 1, 0, 0, 0, 0, 1, 0, 0, 0, 1, 1, 0, 1, 1, 0, 0, 0, 1,\n       1, 1, 0, 1, 0, 0, 0, 1, 1, 0, 0, 1, 1, 1, 1, 0, 0, 0, 0, 1, 1, 0,\n       1, 1, 1, 0, 0, 1, 1, 1, 0, 0, 1, 0, 1, 1, 1, 1, 1, 0, 0, 1, 1, 1,\n       0, 1, 0, 1, 0, 1, 0, 0, 0, 1, 1, 0, 0, 0, 1, 0, 1, 1, 0, 1, 0, 0,\n       0, 1, 0, 1, 0, 0, 0, 0, 0, 0, 1, 1, 1, 1, 0, 0, 0, 1, 1, 0, 0, 1,\n       1, 1, 1, 1, 0, 0, 0, 0, 0, 0, 0, 1, 1, 0, 1, 0, 0, 0, 1, 0, 1, 1,\n       1, 1, 1, 1, 0, 0, 0, 0, 0, 1, 0, 1, 0, 1, 1, 0, 1, 0, 1, 0, 0, 0,\n       1, 0, 0, 1, 1, 1, 1, 1, 1, 0, 0, 0, 0, 1, 0, 1, 1, 0, 0, 0, 1, 0,\n       1, 0, 1, 0, 1, 1, 0, 0, 0, 1, 1, 0, 0, 0, 0, 1, 0, 1, 0, 1, 0, 1,\n       0, 0, 1, 1, 0, 0, 1, 1, 0, 1, 0, 1, 0, 1, 1, 1, 0, 1, 0, 0, 0, 1,\n       1, 1, 0, 0, 1, 0, 1, 1, 0, 1, 0, 1, 1, 1, 1, 0, 0, 1, 1, 0, 0, 1,\n       1, 0, 1, 1, 1, 0, 0, 1, 0, 0, 0, 0, 0, 0, 1, 1, 0, 0, 1, 1, 1, 1,\n       1, 1, 0, 1, 1, 1, 0, 1, 1, 0, 0, 1, 1, 0, 1, 1, 0, 0, 1, 0, 0, 1,\n       1, 1, 0, 1, 1, 1, 0, 0, 0, 1, 1, 0, 0, 1, 0, 1, 0, 0, 0, 0, 0, 0,\n       0, 0, 0, 1, 1, 1, 1, 1, 1, 0, 0, 1, 0, 1, 1, 0, 1, 0, 1, 1, 0, 1,\n       0, 0, 1, 1, 0, 0, 0, 1, 0, 0, 0, 0, 1, 0, 1, 0, 0, 0, 1, 0, 0, 0,\n       1, 0, 0, 1, 1, 0, 0, 0, 0, 1, 1, 1, 0, 1, 1, 1, 0, 1, 0, 1, 0, 0,\n       1, 1, 1, 0, 1, 0, 0, 1, 0, 1, 1, 0, 0, 1, 0, 1, 1, 0, 1, 0, 0, 0,\n       0, 0, 1, 1, 0, 1, 1, 1, 1, 0, 0, 1, 0, 1, 0, 1, 1, 1, 1, 1, 0, 0,\n       0, 0, 0, 0, 0, 0, 0, 1, 1, 1, 1, 0, 0, 1, 0, 1, 1, 1, 0, 0, 0, 0,\n       0, 0, 0, 1, 0, 1, 1, 1, 1, 0, 1, 1, 1, 0, 0, 1, 1, 0, 1, 0, 1, 0,\n       1, 0, 0, 1, 1, 0, 1, 1, 1, 1, 1, 1, 0, 0, 0, 1, 0, 1, 1, 1, 1, 0,\n       0, 1, 0, 0, 1, 0, 1, 1, 1, 0, 1, 1, 0, 1, 0, 0, 1, 0, 0, 0, 1, 0,\n       0, 1, 0, 0, 1, 0, 0, 1, 1, 1, 1, 1, 1, 0, 0, 1, 1, 0, 0, 1, 0, 1,\n       1, 0, 1, 0, 0, 0, 0, 0, 0, 0, 0, 1, 0, 1, 0, 1, 0, 1, 1, 1, 0, 1,\n       1, 1, 1, 1, 0, 0, 0, 0, 0, 0, 1, 0, 0, 1, 1, 1, 0, 0, 0, 0, 1, 1,\n       0, 0, 0, 1, 1, 0, 0, 1, 1, 0, 1, 0, 1, 0, 1, 0, 1, 0, 1, 0, 1, 0,\n       0, 1, 0, 1, 1, 1, 0, 1, 0, 0, 1, 1, 1, 0, 1, 0, 0, 1, 1, 0, 0, 1,\n       1, 0, 0, 0, 0, 1, 1, 0, 0, 0])"
     },
     "execution_count": 112,
     "metadata": {},
     "output_type": "execute_result"
    }
   ],
   "source": [
    "y"
   ]
  },
  {
   "cell_type": "code",
   "execution_count": 113,
   "metadata": {
    "ExecuteTime": {
     "start_time": "2023-04-22T13:34:03.979116Z",
     "end_time": "2023-04-22T13:34:04.151637Z"
    },
    "collapsed": false
   },
   "outputs": [],
   "source": [
    "from sklearn.model_selection import train_test_split"
   ]
  },
  {
   "cell_type": "code",
   "execution_count": 114,
   "metadata": {
    "ExecuteTime": {
     "start_time": "2023-04-22T13:34:03.983231Z",
     "end_time": "2023-04-22T13:34:04.151664Z"
    },
    "collapsed": false
   },
   "outputs": [],
   "source": [
    "X_train,X_test,y_train,y_test = train_test_split(X,y,random_state=42,test_size=0.20)"
   ]
  },
  {
   "cell_type": "code",
   "execution_count": 115,
   "metadata": {
    "ExecuteTime": {
     "start_time": "2023-04-22T13:34:03.986919Z",
     "end_time": "2023-04-22T13:34:04.151721Z"
    },
    "collapsed": false
   },
   "outputs": [
    {
     "data": {
      "text/plain": "((800, 10), (200, 10), (800,), (200,))"
     },
     "execution_count": 115,
     "metadata": {},
     "output_type": "execute_result"
    }
   ],
   "source": [
    "X_train.shape,X_test.shape,y_train.shape,y_test.shape"
   ]
  },
  {
   "cell_type": "code",
   "execution_count": 116,
   "metadata": {
    "ExecuteTime": {
     "start_time": "2023-04-22T13:34:03.990501Z",
     "end_time": "2023-04-22T13:34:04.151749Z"
    },
    "collapsed": false
   },
   "outputs": [],
   "source": [
    "from sklearn.linear_model import LogisticRegression"
   ]
  },
  {
   "cell_type": "code",
   "execution_count": 117,
   "metadata": {
    "ExecuteTime": {
     "start_time": "2023-04-22T13:34:03.994200Z",
     "end_time": "2023-04-22T13:34:04.151777Z"
    },
    "collapsed": false
   },
   "outputs": [],
   "source": [
    "logistic_complex_regressor = LogisticRegression()"
   ]
  },
  {
   "cell_type": "code",
   "execution_count": 118,
   "metadata": {
    "ExecuteTime": {
     "start_time": "2023-04-22T13:34:03.997702Z",
     "end_time": "2023-04-22T13:34:04.151842Z"
    },
    "collapsed": false
   },
   "outputs": [
    {
     "data": {
      "text/plain": "LogisticRegression()",
      "text/html": "<style>#sk-container-id-7 {color: black;background-color: white;}#sk-container-id-7 pre{padding: 0;}#sk-container-id-7 div.sk-toggleable {background-color: white;}#sk-container-id-7 label.sk-toggleable__label {cursor: pointer;display: block;width: 100%;margin-bottom: 0;padding: 0.3em;box-sizing: border-box;text-align: center;}#sk-container-id-7 label.sk-toggleable__label-arrow:before {content: \"▸\";float: left;margin-right: 0.25em;color: #696969;}#sk-container-id-7 label.sk-toggleable__label-arrow:hover:before {color: black;}#sk-container-id-7 div.sk-estimator:hover label.sk-toggleable__label-arrow:before {color: black;}#sk-container-id-7 div.sk-toggleable__content {max-height: 0;max-width: 0;overflow: hidden;text-align: left;background-color: #f0f8ff;}#sk-container-id-7 div.sk-toggleable__content pre {margin: 0.2em;color: black;border-radius: 0.25em;background-color: #f0f8ff;}#sk-container-id-7 input.sk-toggleable__control:checked~div.sk-toggleable__content {max-height: 200px;max-width: 100%;overflow: auto;}#sk-container-id-7 input.sk-toggleable__control:checked~label.sk-toggleable__label-arrow:before {content: \"▾\";}#sk-container-id-7 div.sk-estimator input.sk-toggleable__control:checked~label.sk-toggleable__label {background-color: #d4ebff;}#sk-container-id-7 div.sk-label input.sk-toggleable__control:checked~label.sk-toggleable__label {background-color: #d4ebff;}#sk-container-id-7 input.sk-hidden--visually {border: 0;clip: rect(1px 1px 1px 1px);clip: rect(1px, 1px, 1px, 1px);height: 1px;margin: -1px;overflow: hidden;padding: 0;position: absolute;width: 1px;}#sk-container-id-7 div.sk-estimator {font-family: monospace;background-color: #f0f8ff;border: 1px dotted black;border-radius: 0.25em;box-sizing: border-box;margin-bottom: 0.5em;}#sk-container-id-7 div.sk-estimator:hover {background-color: #d4ebff;}#sk-container-id-7 div.sk-parallel-item::after {content: \"\";width: 100%;border-bottom: 1px solid gray;flex-grow: 1;}#sk-container-id-7 div.sk-label:hover label.sk-toggleable__label {background-color: #d4ebff;}#sk-container-id-7 div.sk-serial::before {content: \"\";position: absolute;border-left: 1px solid gray;box-sizing: border-box;top: 0;bottom: 0;left: 50%;z-index: 0;}#sk-container-id-7 div.sk-serial {display: flex;flex-direction: column;align-items: center;background-color: white;padding-right: 0.2em;padding-left: 0.2em;position: relative;}#sk-container-id-7 div.sk-item {position: relative;z-index: 1;}#sk-container-id-7 div.sk-parallel {display: flex;align-items: stretch;justify-content: center;background-color: white;position: relative;}#sk-container-id-7 div.sk-item::before, #sk-container-id-7 div.sk-parallel-item::before {content: \"\";position: absolute;border-left: 1px solid gray;box-sizing: border-box;top: 0;bottom: 0;left: 50%;z-index: -1;}#sk-container-id-7 div.sk-parallel-item {display: flex;flex-direction: column;z-index: 1;position: relative;background-color: white;}#sk-container-id-7 div.sk-parallel-item:first-child::after {align-self: flex-end;width: 50%;}#sk-container-id-7 div.sk-parallel-item:last-child::after {align-self: flex-start;width: 50%;}#sk-container-id-7 div.sk-parallel-item:only-child::after {width: 0;}#sk-container-id-7 div.sk-dashed-wrapped {border: 1px dashed gray;margin: 0 0.4em 0.5em 0.4em;box-sizing: border-box;padding-bottom: 0.4em;background-color: white;}#sk-container-id-7 div.sk-label label {font-family: monospace;font-weight: bold;display: inline-block;line-height: 1.2em;}#sk-container-id-7 div.sk-label-container {text-align: center;}#sk-container-id-7 div.sk-container {/* jupyter's `normalize.less` sets `[hidden] { display: none; }` but bootstrap.min.css set `[hidden] { display: none !important; }` so we also need the `!important` here to be able to override the default hidden behavior on the sphinx rendered scikit-learn.org. See: https://github.com/scikit-learn/scikit-learn/issues/21755 */display: inline-block !important;position: relative;}#sk-container-id-7 div.sk-text-repr-fallback {display: none;}</style><div id=\"sk-container-id-7\" class=\"sk-top-container\"><div class=\"sk-text-repr-fallback\"><pre>LogisticRegression()</pre><b>In a Jupyter environment, please rerun this cell to show the HTML representation or trust the notebook. <br />On GitHub, the HTML representation is unable to render, please try loading this page with nbviewer.org.</b></div><div class=\"sk-container\" hidden><div class=\"sk-item\"><div class=\"sk-estimator sk-toggleable\"><input class=\"sk-toggleable__control sk-hidden--visually\" id=\"sk-estimator-id-7\" type=\"checkbox\" checked><label for=\"sk-estimator-id-7\" class=\"sk-toggleable__label sk-toggleable__label-arrow\">LogisticRegression</label><div class=\"sk-toggleable__content\"><pre>LogisticRegression()</pre></div></div></div></div></div>"
     },
     "execution_count": 118,
     "metadata": {},
     "output_type": "execute_result"
    }
   ],
   "source": [
    "logistic_complex_regressor.fit(X_train,y_train)"
   ]
  },
  {
   "cell_type": "code",
   "execution_count": 119,
   "metadata": {
    "ExecuteTime": {
     "start_time": "2023-04-22T13:34:04.004560Z",
     "end_time": "2023-04-22T13:34:04.151869Z"
    },
    "collapsed": false
   },
   "outputs": [],
   "source": [
    "y_pred = logistic_complex_regressor.predict(X_test)"
   ]
  },
  {
   "cell_type": "code",
   "execution_count": 120,
   "metadata": {
    "ExecuteTime": {
     "start_time": "2023-04-22T13:34:04.008515Z",
     "end_time": "2023-04-22T13:34:04.151902Z"
    },
    "collapsed": false
   },
   "outputs": [],
   "source": [
    "from sklearn.metrics import confusion_matrix,accuracy_score,classification_report"
   ]
  },
  {
   "cell_type": "code",
   "execution_count": 121,
   "metadata": {
    "ExecuteTime": {
     "start_time": "2023-04-22T13:34:04.011595Z",
     "end_time": "2023-04-22T13:34:04.151963Z"
    },
    "collapsed": false
   },
   "outputs": [
    {
     "data": {
      "text/plain": "array([[78, 13],\n       [29, 80]])"
     },
     "execution_count": 121,
     "metadata": {},
     "output_type": "execute_result"
    }
   ],
   "source": [
    "confusion_matrix(y_test,y_pred)"
   ]
  },
  {
   "cell_type": "code",
   "execution_count": 122,
   "metadata": {
    "ExecuteTime": {
     "start_time": "2023-04-22T13:34:04.017058Z",
     "end_time": "2023-04-22T13:34:04.152020Z"
    },
    "collapsed": false
   },
   "outputs": [
    {
     "name": "stdout",
     "output_type": "stream",
     "text": [
      "0.79\n"
     ]
    }
   ],
   "source": [
    "print(accuracy_score(y_test,y_pred))"
   ]
  },
  {
   "cell_type": "code",
   "execution_count": 123,
   "metadata": {
    "ExecuteTime": {
     "start_time": "2023-04-22T13:34:04.020632Z",
     "end_time": "2023-04-22T13:34:04.152071Z"
    },
    "collapsed": false
   },
   "outputs": [
    {
     "name": "stdout",
     "output_type": "stream",
     "text": [
      "              precision    recall  f1-score   support\n",
      "\n",
      "           0       0.73      0.86      0.79        91\n",
      "           1       0.86      0.73      0.79       109\n",
      "\n",
      "    accuracy                           0.79       200\n",
      "   macro avg       0.79      0.80      0.79       200\n",
      "weighted avg       0.80      0.79      0.79       200\n",
      "\n"
     ]
    }
   ],
   "source": [
    "print(classification_report(y_test,y_pred))"
   ]
  },
  {
   "cell_type": "code",
   "execution_count": 124,
   "metadata": {
    "ExecuteTime": {
     "start_time": "2023-04-22T13:34:04.027267Z",
     "end_time": "2023-04-22T13:34:04.152098Z"
    },
    "collapsed": false
   },
   "outputs": [],
   "source": [
    "from sklearn.model_selection import KFold\n",
    "from sklearn.model_selection import cross_val_score"
   ]
  },
  {
   "cell_type": "code",
   "execution_count": 125,
   "metadata": {
    "ExecuteTime": {
     "start_time": "2023-04-22T13:34:04.030316Z",
     "end_time": "2023-04-22T13:34:04.152124Z"
    },
    "collapsed": false
   },
   "outputs": [],
   "source": [
    "cv = KFold(n_splits=5)"
   ]
  },
  {
   "cell_type": "code",
   "execution_count": 126,
   "metadata": {
    "ExecuteTime": {
     "start_time": "2023-04-22T13:34:04.032762Z",
     "end_time": "2023-04-22T13:34:04.152149Z"
    },
    "collapsed": false
   },
   "outputs": [],
   "source": [
    "validation_score = cross_val_score(logistic_complex_regressor,X_train,y_train,cv = cv)"
   ]
  },
  {
   "cell_type": "code",
   "execution_count": 127,
   "metadata": {
    "ExecuteTime": {
     "start_time": "2023-04-22T13:34:04.050109Z",
     "end_time": "2023-04-22T13:34:04.152204Z"
    },
    "collapsed": false
   },
   "outputs": [
    {
     "data": {
      "text/plain": "array([0.80625, 0.78125, 0.79375, 0.8125 , 0.85625])"
     },
     "execution_count": 127,
     "metadata": {},
     "output_type": "execute_result"
    }
   ],
   "source": [
    "validation_score"
   ]
  },
  {
   "cell_type": "code",
   "execution_count": 128,
   "metadata": {
    "ExecuteTime": {
     "start_time": "2023-04-22T13:34:04.054009Z",
     "end_time": "2023-04-22T13:34:04.152384Z"
    },
    "collapsed": false
   },
   "outputs": [
    {
     "data": {
      "text/plain": "0.8099999999999999"
     },
     "execution_count": 128,
     "metadata": {},
     "output_type": "execute_result"
    }
   ],
   "source": [
    "np.mean(validation_score)"
   ]
  },
  {
   "cell_type": "code",
   "execution_count": 129,
   "outputs": [],
   "source": [
    "from sklearn.tree import DecisionTreeClassifier"
   ],
   "metadata": {
    "collapsed": false,
    "ExecuteTime": {
     "start_time": "2023-04-22T13:34:04.059646Z",
     "end_time": "2023-04-22T13:34:04.153770Z"
    }
   }
  },
  {
   "cell_type": "code",
   "execution_count": 130,
   "outputs": [],
   "source": [
    "decision_classifier = DecisionTreeClassifier()"
   ],
   "metadata": {
    "collapsed": false,
    "ExecuteTime": {
     "start_time": "2023-04-22T13:34:04.062457Z",
     "end_time": "2023-04-22T13:34:04.154173Z"
    }
   }
  },
  {
   "cell_type": "code",
   "execution_count": 131,
   "outputs": [],
   "source": [
    "cross_validation = cross_val_score(decision_classifier,X_train,y_train,cv = KFold(n_splits=5))"
   ],
   "metadata": {
    "collapsed": false,
    "ExecuteTime": {
     "start_time": "2023-04-22T13:34:04.065737Z",
     "end_time": "2023-04-22T13:34:04.203406Z"
    }
   }
  },
  {
   "cell_type": "code",
   "execution_count": 132,
   "outputs": [
    {
     "data": {
      "text/plain": "array([0.8375 , 0.88125, 0.88125, 0.875  , 0.85625])"
     },
     "execution_count": 132,
     "metadata": {},
     "output_type": "execute_result"
    }
   ],
   "source": [
    "cross_validation"
   ],
   "metadata": {
    "collapsed": false,
    "ExecuteTime": {
     "start_time": "2023-04-22T13:34:04.091170Z",
     "end_time": "2023-04-22T13:34:04.205805Z"
    }
   }
  },
  {
   "cell_type": "code",
   "execution_count": 133,
   "outputs": [
    {
     "data": {
      "text/plain": "0.86625"
     },
     "execution_count": 133,
     "metadata": {},
     "output_type": "execute_result"
    }
   ],
   "source": [
    "np.mean(cross_validation)"
   ],
   "metadata": {
    "collapsed": false,
    "ExecuteTime": {
     "start_time": "2023-04-22T13:34:04.096221Z",
     "end_time": "2023-04-22T13:34:04.205929Z"
    }
   }
  },
  {
   "cell_type": "code",
   "execution_count": 134,
   "outputs": [],
   "source": [
    "from sklearn.model_selection import GridSearchCV"
   ],
   "metadata": {
    "collapsed": false,
    "ExecuteTime": {
     "start_time": "2023-04-22T13:34:04.101476Z",
     "end_time": "2023-04-22T13:34:04.205994Z"
    }
   }
  },
  {
   "cell_type": "code",
   "execution_count": 135,
   "outputs": [],
   "source": [
    "parameters = {\n",
    "    'criterion' : ['gini', 'entropy', 'log_loss'],\n",
    "    'max_depth' : [1,2,3,4,5,6,7,8,9],\n",
    "    'splitter' : ['best', 'random']\n",
    " }"
   ],
   "metadata": {
    "collapsed": false,
    "ExecuteTime": {
     "start_time": "2023-04-22T13:34:04.103734Z",
     "end_time": "2023-04-22T13:34:04.206047Z"
    }
   }
  },
  {
   "cell_type": "code",
   "execution_count": 136,
   "outputs": [],
   "source": [
    "clf = GridSearchCV(decision_classifier,param_grid=parameters, cv = 5)"
   ],
   "metadata": {
    "collapsed": false,
    "ExecuteTime": {
     "start_time": "2023-04-22T13:34:04.107392Z",
     "end_time": "2023-04-22T13:34:04.206085Z"
    }
   }
  },
  {
   "cell_type": "code",
   "execution_count": 139,
   "outputs": [
    {
     "data": {
      "text/plain": "GridSearchCV(cv=5, estimator=DecisionTreeClassifier(),\n             param_grid={'criterion': ['gini', 'entropy', 'log_loss'],\n                         'max_depth': [1, 2, 3, 4, 5, 6, 7, 8, 9],\n                         'splitter': ['best', 'random']})",
      "text/html": "<style>#sk-container-id-9 {color: black;background-color: white;}#sk-container-id-9 pre{padding: 0;}#sk-container-id-9 div.sk-toggleable {background-color: white;}#sk-container-id-9 label.sk-toggleable__label {cursor: pointer;display: block;width: 100%;margin-bottom: 0;padding: 0.3em;box-sizing: border-box;text-align: center;}#sk-container-id-9 label.sk-toggleable__label-arrow:before {content: \"▸\";float: left;margin-right: 0.25em;color: #696969;}#sk-container-id-9 label.sk-toggleable__label-arrow:hover:before {color: black;}#sk-container-id-9 div.sk-estimator:hover label.sk-toggleable__label-arrow:before {color: black;}#sk-container-id-9 div.sk-toggleable__content {max-height: 0;max-width: 0;overflow: hidden;text-align: left;background-color: #f0f8ff;}#sk-container-id-9 div.sk-toggleable__content pre {margin: 0.2em;color: black;border-radius: 0.25em;background-color: #f0f8ff;}#sk-container-id-9 input.sk-toggleable__control:checked~div.sk-toggleable__content {max-height: 200px;max-width: 100%;overflow: auto;}#sk-container-id-9 input.sk-toggleable__control:checked~label.sk-toggleable__label-arrow:before {content: \"▾\";}#sk-container-id-9 div.sk-estimator input.sk-toggleable__control:checked~label.sk-toggleable__label {background-color: #d4ebff;}#sk-container-id-9 div.sk-label input.sk-toggleable__control:checked~label.sk-toggleable__label {background-color: #d4ebff;}#sk-container-id-9 input.sk-hidden--visually {border: 0;clip: rect(1px 1px 1px 1px);clip: rect(1px, 1px, 1px, 1px);height: 1px;margin: -1px;overflow: hidden;padding: 0;position: absolute;width: 1px;}#sk-container-id-9 div.sk-estimator {font-family: monospace;background-color: #f0f8ff;border: 1px dotted black;border-radius: 0.25em;box-sizing: border-box;margin-bottom: 0.5em;}#sk-container-id-9 div.sk-estimator:hover {background-color: #d4ebff;}#sk-container-id-9 div.sk-parallel-item::after {content: \"\";width: 100%;border-bottom: 1px solid gray;flex-grow: 1;}#sk-container-id-9 div.sk-label:hover label.sk-toggleable__label {background-color: #d4ebff;}#sk-container-id-9 div.sk-serial::before {content: \"\";position: absolute;border-left: 1px solid gray;box-sizing: border-box;top: 0;bottom: 0;left: 50%;z-index: 0;}#sk-container-id-9 div.sk-serial {display: flex;flex-direction: column;align-items: center;background-color: white;padding-right: 0.2em;padding-left: 0.2em;position: relative;}#sk-container-id-9 div.sk-item {position: relative;z-index: 1;}#sk-container-id-9 div.sk-parallel {display: flex;align-items: stretch;justify-content: center;background-color: white;position: relative;}#sk-container-id-9 div.sk-item::before, #sk-container-id-9 div.sk-parallel-item::before {content: \"\";position: absolute;border-left: 1px solid gray;box-sizing: border-box;top: 0;bottom: 0;left: 50%;z-index: -1;}#sk-container-id-9 div.sk-parallel-item {display: flex;flex-direction: column;z-index: 1;position: relative;background-color: white;}#sk-container-id-9 div.sk-parallel-item:first-child::after {align-self: flex-end;width: 50%;}#sk-container-id-9 div.sk-parallel-item:last-child::after {align-self: flex-start;width: 50%;}#sk-container-id-9 div.sk-parallel-item:only-child::after {width: 0;}#sk-container-id-9 div.sk-dashed-wrapped {border: 1px dashed gray;margin: 0 0.4em 0.5em 0.4em;box-sizing: border-box;padding-bottom: 0.4em;background-color: white;}#sk-container-id-9 div.sk-label label {font-family: monospace;font-weight: bold;display: inline-block;line-height: 1.2em;}#sk-container-id-9 div.sk-label-container {text-align: center;}#sk-container-id-9 div.sk-container {/* jupyter's `normalize.less` sets `[hidden] { display: none; }` but bootstrap.min.css set `[hidden] { display: none !important; }` so we also need the `!important` here to be able to override the default hidden behavior on the sphinx rendered scikit-learn.org. See: https://github.com/scikit-learn/scikit-learn/issues/21755 */display: inline-block !important;position: relative;}#sk-container-id-9 div.sk-text-repr-fallback {display: none;}</style><div id=\"sk-container-id-9\" class=\"sk-top-container\"><div class=\"sk-text-repr-fallback\"><pre>GridSearchCV(cv=5, estimator=DecisionTreeClassifier(),\n             param_grid={&#x27;criterion&#x27;: [&#x27;gini&#x27;, &#x27;entropy&#x27;, &#x27;log_loss&#x27;],\n                         &#x27;max_depth&#x27;: [1, 2, 3, 4, 5, 6, 7, 8, 9],\n                         &#x27;splitter&#x27;: [&#x27;best&#x27;, &#x27;random&#x27;]})</pre><b>In a Jupyter environment, please rerun this cell to show the HTML representation or trust the notebook. <br />On GitHub, the HTML representation is unable to render, please try loading this page with nbviewer.org.</b></div><div class=\"sk-container\" hidden><div class=\"sk-item sk-dashed-wrapped\"><div class=\"sk-label-container\"><div class=\"sk-label sk-toggleable\"><input class=\"sk-toggleable__control sk-hidden--visually\" id=\"sk-estimator-id-9\" type=\"checkbox\" ><label for=\"sk-estimator-id-9\" class=\"sk-toggleable__label sk-toggleable__label-arrow\">GridSearchCV</label><div class=\"sk-toggleable__content\"><pre>GridSearchCV(cv=5, estimator=DecisionTreeClassifier(),\n             param_grid={&#x27;criterion&#x27;: [&#x27;gini&#x27;, &#x27;entropy&#x27;, &#x27;log_loss&#x27;],\n                         &#x27;max_depth&#x27;: [1, 2, 3, 4, 5, 6, 7, 8, 9],\n                         &#x27;splitter&#x27;: [&#x27;best&#x27;, &#x27;random&#x27;]})</pre></div></div></div><div class=\"sk-parallel\"><div class=\"sk-parallel-item\"><div class=\"sk-item\"><div class=\"sk-label-container\"><div class=\"sk-label sk-toggleable\"><input class=\"sk-toggleable__control sk-hidden--visually\" id=\"sk-estimator-id-10\" type=\"checkbox\" ><label for=\"sk-estimator-id-10\" class=\"sk-toggleable__label sk-toggleable__label-arrow\">estimator: DecisionTreeClassifier</label><div class=\"sk-toggleable__content\"><pre>DecisionTreeClassifier()</pre></div></div></div><div class=\"sk-serial\"><div class=\"sk-item\"><div class=\"sk-estimator sk-toggleable\"><input class=\"sk-toggleable__control sk-hidden--visually\" id=\"sk-estimator-id-11\" type=\"checkbox\" ><label for=\"sk-estimator-id-11\" class=\"sk-toggleable__label sk-toggleable__label-arrow\">DecisionTreeClassifier</label><div class=\"sk-toggleable__content\"><pre>DecisionTreeClassifier()</pre></div></div></div></div></div></div></div></div></div></div>"
     },
     "execution_count": 139,
     "metadata": {},
     "output_type": "execute_result"
    }
   ],
   "source": [
    "clf.fit(X_train,y_train)\n"
   ],
   "metadata": {
    "collapsed": false,
    "ExecuteTime": {
     "start_time": "2023-04-22T13:34:50.719816Z",
     "end_time": "2023-04-22T13:34:51.385916Z"
    }
   }
  },
  {
   "cell_type": "code",
   "execution_count": 140,
   "outputs": [
    {
     "data": {
      "text/plain": "0.8724999999999999"
     },
     "execution_count": 140,
     "metadata": {},
     "output_type": "execute_result"
    }
   ],
   "source": [
    "clf.best_score_"
   ],
   "metadata": {
    "collapsed": false,
    "ExecuteTime": {
     "start_time": "2023-04-22T13:35:01.486879Z",
     "end_time": "2023-04-22T13:35:01.502540Z"
    }
   }
  },
  {
   "cell_type": "code",
   "execution_count": 141,
   "outputs": [
    {
     "data": {
      "text/plain": "{'criterion': 'log_loss', 'max_depth': 9, 'splitter': 'random'}"
     },
     "execution_count": 141,
     "metadata": {},
     "output_type": "execute_result"
    }
   ],
   "source": [
    "clf.best_params_"
   ],
   "metadata": {
    "collapsed": false,
    "ExecuteTime": {
     "start_time": "2023-04-22T13:35:20.552185Z",
     "end_time": "2023-04-22T13:35:20.564593Z"
    }
   }
  },
  {
   "cell_type": "code",
   "execution_count": 142,
   "outputs": [],
   "source": [
    "decision_classifier = DecisionTreeClassifier(criterion = 'log_loss', max_depth = 9, splitter='random')"
   ],
   "metadata": {
    "collapsed": false,
    "ExecuteTime": {
     "start_time": "2023-04-22T13:36:36.401255Z",
     "end_time": "2023-04-22T13:36:36.418228Z"
    }
   }
  },
  {
   "cell_type": "code",
   "execution_count": 143,
   "outputs": [
    {
     "data": {
      "text/plain": "DecisionTreeClassifier(criterion='log_loss', max_depth=9, splitter='random')",
      "text/html": "<style>#sk-container-id-10 {color: black;background-color: white;}#sk-container-id-10 pre{padding: 0;}#sk-container-id-10 div.sk-toggleable {background-color: white;}#sk-container-id-10 label.sk-toggleable__label {cursor: pointer;display: block;width: 100%;margin-bottom: 0;padding: 0.3em;box-sizing: border-box;text-align: center;}#sk-container-id-10 label.sk-toggleable__label-arrow:before {content: \"▸\";float: left;margin-right: 0.25em;color: #696969;}#sk-container-id-10 label.sk-toggleable__label-arrow:hover:before {color: black;}#sk-container-id-10 div.sk-estimator:hover label.sk-toggleable__label-arrow:before {color: black;}#sk-container-id-10 div.sk-toggleable__content {max-height: 0;max-width: 0;overflow: hidden;text-align: left;background-color: #f0f8ff;}#sk-container-id-10 div.sk-toggleable__content pre {margin: 0.2em;color: black;border-radius: 0.25em;background-color: #f0f8ff;}#sk-container-id-10 input.sk-toggleable__control:checked~div.sk-toggleable__content {max-height: 200px;max-width: 100%;overflow: auto;}#sk-container-id-10 input.sk-toggleable__control:checked~label.sk-toggleable__label-arrow:before {content: \"▾\";}#sk-container-id-10 div.sk-estimator input.sk-toggleable__control:checked~label.sk-toggleable__label {background-color: #d4ebff;}#sk-container-id-10 div.sk-label input.sk-toggleable__control:checked~label.sk-toggleable__label {background-color: #d4ebff;}#sk-container-id-10 input.sk-hidden--visually {border: 0;clip: rect(1px 1px 1px 1px);clip: rect(1px, 1px, 1px, 1px);height: 1px;margin: -1px;overflow: hidden;padding: 0;position: absolute;width: 1px;}#sk-container-id-10 div.sk-estimator {font-family: monospace;background-color: #f0f8ff;border: 1px dotted black;border-radius: 0.25em;box-sizing: border-box;margin-bottom: 0.5em;}#sk-container-id-10 div.sk-estimator:hover {background-color: #d4ebff;}#sk-container-id-10 div.sk-parallel-item::after {content: \"\";width: 100%;border-bottom: 1px solid gray;flex-grow: 1;}#sk-container-id-10 div.sk-label:hover label.sk-toggleable__label {background-color: #d4ebff;}#sk-container-id-10 div.sk-serial::before {content: \"\";position: absolute;border-left: 1px solid gray;box-sizing: border-box;top: 0;bottom: 0;left: 50%;z-index: 0;}#sk-container-id-10 div.sk-serial {display: flex;flex-direction: column;align-items: center;background-color: white;padding-right: 0.2em;padding-left: 0.2em;position: relative;}#sk-container-id-10 div.sk-item {position: relative;z-index: 1;}#sk-container-id-10 div.sk-parallel {display: flex;align-items: stretch;justify-content: center;background-color: white;position: relative;}#sk-container-id-10 div.sk-item::before, #sk-container-id-10 div.sk-parallel-item::before {content: \"\";position: absolute;border-left: 1px solid gray;box-sizing: border-box;top: 0;bottom: 0;left: 50%;z-index: -1;}#sk-container-id-10 div.sk-parallel-item {display: flex;flex-direction: column;z-index: 1;position: relative;background-color: white;}#sk-container-id-10 div.sk-parallel-item:first-child::after {align-self: flex-end;width: 50%;}#sk-container-id-10 div.sk-parallel-item:last-child::after {align-self: flex-start;width: 50%;}#sk-container-id-10 div.sk-parallel-item:only-child::after {width: 0;}#sk-container-id-10 div.sk-dashed-wrapped {border: 1px dashed gray;margin: 0 0.4em 0.5em 0.4em;box-sizing: border-box;padding-bottom: 0.4em;background-color: white;}#sk-container-id-10 div.sk-label label {font-family: monospace;font-weight: bold;display: inline-block;line-height: 1.2em;}#sk-container-id-10 div.sk-label-container {text-align: center;}#sk-container-id-10 div.sk-container {/* jupyter's `normalize.less` sets `[hidden] { display: none; }` but bootstrap.min.css set `[hidden] { display: none !important; }` so we also need the `!important` here to be able to override the default hidden behavior on the sphinx rendered scikit-learn.org. See: https://github.com/scikit-learn/scikit-learn/issues/21755 */display: inline-block !important;position: relative;}#sk-container-id-10 div.sk-text-repr-fallback {display: none;}</style><div id=\"sk-container-id-10\" class=\"sk-top-container\"><div class=\"sk-text-repr-fallback\"><pre>DecisionTreeClassifier(criterion=&#x27;log_loss&#x27;, max_depth=9, splitter=&#x27;random&#x27;)</pre><b>In a Jupyter environment, please rerun this cell to show the HTML representation or trust the notebook. <br />On GitHub, the HTML representation is unable to render, please try loading this page with nbviewer.org.</b></div><div class=\"sk-container\" hidden><div class=\"sk-item\"><div class=\"sk-estimator sk-toggleable\"><input class=\"sk-toggleable__control sk-hidden--visually\" id=\"sk-estimator-id-12\" type=\"checkbox\" checked><label for=\"sk-estimator-id-12\" class=\"sk-toggleable__label sk-toggleable__label-arrow\">DecisionTreeClassifier</label><div class=\"sk-toggleable__content\"><pre>DecisionTreeClassifier(criterion=&#x27;log_loss&#x27;, max_depth=9, splitter=&#x27;random&#x27;)</pre></div></div></div></div></div>"
     },
     "execution_count": 143,
     "metadata": {},
     "output_type": "execute_result"
    }
   ],
   "source": [
    "decision_classifier.fit(X_train,y_train)"
   ],
   "metadata": {
    "collapsed": false,
    "ExecuteTime": {
     "start_time": "2023-04-22T13:36:52.124584Z",
     "end_time": "2023-04-22T13:36:52.141240Z"
    }
   }
  },
  {
   "cell_type": "code",
   "execution_count": 144,
   "outputs": [],
   "source": [
    "from sklearn import tree"
   ],
   "metadata": {
    "collapsed": false,
    "ExecuteTime": {
     "start_time": "2023-04-22T13:37:05.446182Z",
     "end_time": "2023-04-22T13:37:05.461981Z"
    }
   }
  },
  {
   "cell_type": "code",
   "execution_count": 145,
   "outputs": [
    {
     "data": {
      "text/plain": "[Text(0.3467741935483871, 0.95, 'x[2] <= -0.735\\nlog_loss = 1.0\\nsamples = 800\\nvalue = [408, 392]'),\n Text(0.07795698924731183, 0.85, 'x[7] <= -2.933\\nlog_loss = 0.397\\nsamples = 102\\nvalue = [94, 8]'),\n Text(0.021505376344086023, 0.75, 'x[8] <= -0.275\\nlog_loss = 0.985\\nsamples = 7\\nvalue = [4, 3]'),\n Text(0.010752688172043012, 0.65, 'log_loss = 0.0\\nsamples = 2\\nvalue = [0, 2]'),\n Text(0.03225806451612903, 0.65, 'x[4] <= 0.531\\nlog_loss = 0.722\\nsamples = 5\\nvalue = [4, 1]'),\n Text(0.021505376344086023, 0.55, 'x[6] <= -1.49\\nlog_loss = 1.0\\nsamples = 2\\nvalue = [1, 1]'),\n Text(0.010752688172043012, 0.45, 'log_loss = 0.0\\nsamples = 1\\nvalue = [1, 0]'),\n Text(0.03225806451612903, 0.45, 'log_loss = 0.0\\nsamples = 1\\nvalue = [0, 1]'),\n Text(0.043010752688172046, 0.55, 'log_loss = 0.0\\nsamples = 3\\nvalue = [3, 0]'),\n Text(0.13440860215053763, 0.75, 'x[5] <= -0.12\\nlog_loss = 0.297\\nsamples = 95\\nvalue = [90, 5]'),\n Text(0.08602150537634409, 0.65, 'x[6] <= -2.106\\nlog_loss = 0.167\\nsamples = 81\\nvalue = [79, 2]'),\n Text(0.06451612903225806, 0.55, 'x[1] <= 1.407\\nlog_loss = 0.722\\nsamples = 5\\nvalue = [4, 1]'),\n Text(0.053763440860215055, 0.45, 'log_loss = 0.0\\nsamples = 1\\nvalue = [0, 1]'),\n Text(0.07526881720430108, 0.45, 'log_loss = 0.0\\nsamples = 4\\nvalue = [4, 0]'),\n Text(0.10752688172043011, 0.55, 'x[4] <= 2.301\\nlog_loss = 0.101\\nsamples = 76\\nvalue = [75, 1]'),\n Text(0.0967741935483871, 0.45, 'log_loss = 0.0\\nsamples = 52\\nvalue = [52, 0]'),\n Text(0.11827956989247312, 0.45, 'x[9] <= -0.054\\nlog_loss = 0.25\\nsamples = 24\\nvalue = [23, 1]'),\n Text(0.10752688172043011, 0.35, 'log_loss = 0.0\\nsamples = 21\\nvalue = [21, 0]'),\n Text(0.12903225806451613, 0.35, 'x[2] <= -1.498\\nlog_loss = 0.918\\nsamples = 3\\nvalue = [2, 1]'),\n Text(0.11827956989247312, 0.25, 'log_loss = 0.0\\nsamples = 2\\nvalue = [2, 0]'),\n Text(0.13978494623655913, 0.25, 'log_loss = 0.0\\nsamples = 1\\nvalue = [0, 1]'),\n Text(0.1827956989247312, 0.65, 'x[5] <= 1.512\\nlog_loss = 0.75\\nsamples = 14\\nvalue = [11, 3]'),\n Text(0.17204301075268819, 0.55, 'x[8] <= -1.42\\nlog_loss = 0.414\\nsamples = 12\\nvalue = [11, 1]'),\n Text(0.16129032258064516, 0.45, 'x[4] <= 1.023\\nlog_loss = 0.811\\nsamples = 4\\nvalue = [3, 1]'),\n Text(0.15053763440860216, 0.35, 'log_loss = 0.0\\nsamples = 3\\nvalue = [3, 0]'),\n Text(0.17204301075268819, 0.35, 'log_loss = 0.0\\nsamples = 1\\nvalue = [0, 1]'),\n Text(0.1827956989247312, 0.45, 'log_loss = 0.0\\nsamples = 8\\nvalue = [8, 0]'),\n Text(0.1935483870967742, 0.55, 'log_loss = 0.0\\nsamples = 2\\nvalue = [0, 2]'),\n Text(0.6155913978494624, 0.85, 'x[0] <= 1.197\\nlog_loss = 0.993\\nsamples = 698\\nvalue = [314, 384]'),\n Text(0.3736559139784946, 0.75, 'x[0] <= -0.368\\nlog_loss = 0.982\\nsamples = 426\\nvalue = [247, 179]'),\n Text(0.28763440860215056, 0.65, 'x[3] <= -2.635\\nlog_loss = 0.888\\nsamples = 226\\nvalue = [157, 69]'),\n Text(0.2768817204301075, 0.55, 'log_loss = 0.0\\nsamples = 14\\nvalue = [0, 14]'),\n Text(0.29838709677419356, 0.55, 'x[9] <= 2.195\\nlog_loss = 0.826\\nsamples = 212\\nvalue = [157, 55]'),\n Text(0.23118279569892472, 0.45, 'x[7] <= -0.78\\nlog_loss = 0.94\\nsamples = 126\\nvalue = [81, 45]'),\n Text(0.1935483870967742, 0.35, 'x[2] <= 0.352\\nlog_loss = 0.523\\nsamples = 17\\nvalue = [15, 2]'),\n Text(0.1827956989247312, 0.25, 'log_loss = 0.0\\nsamples = 1\\nvalue = [0, 1]'),\n Text(0.20430107526881722, 0.25, 'x[8] <= 2.335\\nlog_loss = 0.337\\nsamples = 16\\nvalue = [15, 1]'),\n Text(0.1935483870967742, 0.15, 'log_loss = 0.0\\nsamples = 13\\nvalue = [13, 0]'),\n Text(0.21505376344086022, 0.15, 'x[0] <= -2.057\\nlog_loss = 0.918\\nsamples = 3\\nvalue = [2, 1]'),\n Text(0.20430107526881722, 0.05, 'log_loss = 0.0\\nsamples = 1\\nvalue = [0, 1]'),\n Text(0.22580645161290322, 0.05, 'log_loss = 0.0\\nsamples = 2\\nvalue = [2, 0]'),\n Text(0.26881720430107525, 0.35, 'x[8] <= -1.268\\nlog_loss = 0.968\\nsamples = 109\\nvalue = [66, 43]'),\n Text(0.25806451612903225, 0.25, 'log_loss = 0.0\\nsamples = 12\\nvalue = [12, 0]'),\n Text(0.27956989247311825, 0.25, 'x[8] <= 0.861\\nlog_loss = 0.991\\nsamples = 97\\nvalue = [54, 43]'),\n Text(0.25806451612903225, 0.15, 'x[3] <= 0.193\\nlog_loss = 0.96\\nsamples = 60\\nvalue = [23, 37]'),\n Text(0.24731182795698925, 0.05, 'log_loss = 0.258\\nsamples = 23\\nvalue = [1, 22]'),\n Text(0.26881720430107525, 0.05, 'log_loss = 0.974\\nsamples = 37\\nvalue = [22, 15]'),\n Text(0.3010752688172043, 0.15, 'x[3] <= 1.767\\nlog_loss = 0.639\\nsamples = 37\\nvalue = [31, 6]'),\n Text(0.2903225806451613, 0.05, 'log_loss = 0.581\\nsamples = 36\\nvalue = [31, 5]'),\n Text(0.3118279569892473, 0.05, 'log_loss = 0.0\\nsamples = 1\\nvalue = [0, 1]'),\n Text(0.3655913978494624, 0.45, 'x[0] <= -4.781\\nlog_loss = 0.519\\nsamples = 86\\nvalue = [76, 10]'),\n Text(0.3548387096774194, 0.35, 'log_loss = 0.0\\nsamples = 9\\nvalue = [9, 0]'),\n Text(0.3763440860215054, 0.35, 'x[5] <= 1.245\\nlog_loss = 0.557\\nsamples = 77\\nvalue = [67, 10]'),\n Text(0.3548387096774194, 0.25, 'x[9] <= 3.478\\nlog_loss = 0.672\\nsamples = 51\\nvalue = [42, 9]'),\n Text(0.34408602150537637, 0.15, 'x[1] <= -0.118\\nlog_loss = 0.759\\nsamples = 41\\nvalue = [32, 9]'),\n Text(0.3333333333333333, 0.05, 'log_loss = 0.0\\nsamples = 1\\nvalue = [0, 1]'),\n Text(0.3548387096774194, 0.05, 'log_loss = 0.722\\nsamples = 40\\nvalue = [32, 8]'),\n Text(0.3655913978494624, 0.15, 'log_loss = 0.0\\nsamples = 10\\nvalue = [10, 0]'),\n Text(0.3978494623655914, 0.25, 'x[9] <= 4.179\\nlog_loss = 0.235\\nsamples = 26\\nvalue = [25, 1]'),\n Text(0.3870967741935484, 0.15, 'log_loss = 0.0\\nsamples = 23\\nvalue = [23, 0]'),\n Text(0.40860215053763443, 0.15, 'x[8] <= -0.62\\nlog_loss = 0.918\\nsamples = 3\\nvalue = [2, 1]'),\n Text(0.3978494623655914, 0.05, 'log_loss = 0.0\\nsamples = 2\\nvalue = [2, 0]'),\n Text(0.41935483870967744, 0.05, 'log_loss = 0.0\\nsamples = 1\\nvalue = [0, 1]'),\n Text(0.4596774193548387, 0.65, 'x[3] <= -2.717\\nlog_loss = 0.993\\nsamples = 200\\nvalue = [90, 110]'),\n Text(0.4489247311827957, 0.55, 'log_loss = 0.0\\nsamples = 25\\nvalue = [0, 25]'),\n Text(0.47043010752688175, 0.55, 'x[3] <= -0.478\\nlog_loss = 0.999\\nsamples = 175\\nvalue = [90, 85]'),\n Text(0.44086021505376344, 0.45, 'x[3] <= -1.095\\nlog_loss = 0.579\\nsamples = 29\\nvalue = [4, 25]'),\n Text(0.43010752688172044, 0.35, 'log_loss = 0.0\\nsamples = 23\\nvalue = [0, 23]'),\n Text(0.45161290322580644, 0.35, 'x[1] <= 0.994\\nlog_loss = 0.918\\nsamples = 6\\nvalue = [4, 2]'),\n Text(0.44086021505376344, 0.25, 'x[0] <= 0.177\\nlog_loss = 0.918\\nsamples = 3\\nvalue = [1, 2]'),\n Text(0.43010752688172044, 0.15, 'log_loss = 0.0\\nsamples = 1\\nvalue = [1, 0]'),\n Text(0.45161290322580644, 0.15, 'log_loss = 0.0\\nsamples = 2\\nvalue = [0, 2]'),\n Text(0.46236559139784944, 0.25, 'log_loss = 0.0\\nsamples = 3\\nvalue = [3, 0]'),\n Text(0.5, 0.45, 'x[7] <= -1.456\\nlog_loss = 0.977\\nsamples = 146\\nvalue = [86, 60]'),\n Text(0.489247311827957, 0.35, 'log_loss = 0.0\\nsamples = 8\\nvalue = [8, 0]'),\n Text(0.510752688172043, 0.35, 'x[4] <= -1.534\\nlog_loss = 0.988\\nsamples = 138\\nvalue = [78, 60]'),\n Text(0.4838709677419355, 0.25, 'x[4] <= -1.877\\nlog_loss = 0.469\\nsamples = 10\\nvalue = [9, 1]'),\n Text(0.4731182795698925, 0.15, 'log_loss = 0.0\\nsamples = 1\\nvalue = [0, 1]'),\n Text(0.4946236559139785, 0.15, 'log_loss = 0.0\\nsamples = 9\\nvalue = [9, 0]'),\n Text(0.5376344086021505, 0.25, 'x[4] <= -1.11\\nlog_loss = 0.996\\nsamples = 128\\nvalue = [69, 59]'),\n Text(0.5161290322580645, 0.15, 'x[8] <= 0.578\\nlog_loss = 0.485\\nsamples = 19\\nvalue = [17, 2]'),\n Text(0.5053763440860215, 0.05, 'log_loss = 1.0\\nsamples = 4\\nvalue = [2, 2]'),\n Text(0.5268817204301075, 0.05, 'log_loss = 0.0\\nsamples = 15\\nvalue = [15, 0]'),\n Text(0.5591397849462365, 0.15, 'x[6] <= -1.53\\nlog_loss = 0.998\\nsamples = 109\\nvalue = [52, 57]'),\n Text(0.5483870967741935, 0.05, 'log_loss = 0.0\\nsamples = 10\\nvalue = [10, 0]'),\n Text(0.5698924731182796, 0.05, 'log_loss = 0.983\\nsamples = 99\\nvalue = [42, 57]'),\n Text(0.8575268817204301, 0.75, 'x[5] <= -0.294\\nlog_loss = 0.805\\nsamples = 272\\nvalue = [67, 205]'),\n Text(0.7849462365591398, 0.65, 'x[1] <= 2.367\\nlog_loss = 0.592\\nsamples = 224\\nvalue = [32, 192]'),\n Text(0.7096774193548387, 0.55, 'x[2] <= 0.166\\nlog_loss = 0.365\\nsamples = 201\\nvalue = [14, 187]'),\n Text(0.6612903225806451, 0.45, 'x[3] <= 1.03\\nlog_loss = 0.644\\nsamples = 61\\nvalue = [10, 51]'),\n Text(0.6505376344086021, 0.35, 'x[6] <= -0.273\\nlog_loss = 0.573\\nsamples = 59\\nvalue = [8, 51]'),\n Text(0.6236559139784946, 0.25, 'x[2] <= -0.509\\nlog_loss = 0.439\\nsamples = 55\\nvalue = [5, 50]'),\n Text(0.6021505376344086, 0.15, 'x[0] <= 3.388\\nlog_loss = 0.971\\nsamples = 5\\nvalue = [3, 2]'),\n Text(0.5913978494623656, 0.05, 'log_loss = 0.0\\nsamples = 3\\nvalue = [3, 0]'),\n Text(0.6129032258064516, 0.05, 'log_loss = 0.0\\nsamples = 2\\nvalue = [0, 2]'),\n Text(0.6451612903225806, 0.15, 'x[1] <= 1.53\\nlog_loss = 0.242\\nsamples = 50\\nvalue = [2, 48]'),\n Text(0.6344086021505376, 0.05, 'log_loss = 0.0\\nsamples = 44\\nvalue = [0, 44]'),\n Text(0.6559139784946236, 0.05, 'log_loss = 0.918\\nsamples = 6\\nvalue = [2, 4]'),\n Text(0.6774193548387096, 0.25, 'x[7] <= -0.597\\nlog_loss = 0.811\\nsamples = 4\\nvalue = [3, 1]'),\n Text(0.6666666666666666, 0.15, 'log_loss = 0.0\\nsamples = 1\\nvalue = [0, 1]'),\n Text(0.6881720430107527, 0.15, 'log_loss = 0.0\\nsamples = 3\\nvalue = [3, 0]'),\n Text(0.6720430107526881, 0.35, 'log_loss = 0.0\\nsamples = 2\\nvalue = [2, 0]'),\n Text(0.7580645161290323, 0.45, 'x[3] <= -1.572\\nlog_loss = 0.187\\nsamples = 140\\nvalue = [4, 136]'),\n Text(0.7311827956989247, 0.35, 'x[1] <= -1.906\\nlog_loss = 0.098\\nsamples = 79\\nvalue = [1, 78]'),\n Text(0.7204301075268817, 0.25, 'x[0] <= 2.717\\nlog_loss = 0.276\\nsamples = 21\\nvalue = [1, 20]'),\n Text(0.7096774193548387, 0.15, 'log_loss = 0.0\\nsamples = 10\\nvalue = [0, 10]'),\n Text(0.7311827956989247, 0.15, 'x[7] <= -4.349\\nlog_loss = 0.439\\nsamples = 11\\nvalue = [1, 10]'),\n Text(0.7204301075268817, 0.05, 'log_loss = 0.0\\nsamples = 8\\nvalue = [0, 8]'),\n Text(0.7419354838709677, 0.05, 'log_loss = 0.918\\nsamples = 3\\nvalue = [1, 2]'),\n Text(0.7419354838709677, 0.25, 'log_loss = 0.0\\nsamples = 58\\nvalue = [0, 58]'),\n Text(0.7849462365591398, 0.35, 'x[3] <= -0.757\\nlog_loss = 0.283\\nsamples = 61\\nvalue = [3, 58]'),\n Text(0.7741935483870968, 0.25, 'log_loss = 0.0\\nsamples = 25\\nvalue = [0, 25]'),\n Text(0.7956989247311828, 0.25, 'x[2] <= 0.248\\nlog_loss = 0.414\\nsamples = 36\\nvalue = [3, 33]'),\n Text(0.7741935483870968, 0.15, 'x[4] <= 2.118\\nlog_loss = 0.863\\nsamples = 7\\nvalue = [2, 5]'),\n Text(0.7634408602150538, 0.05, 'log_loss = 0.918\\nsamples = 3\\nvalue = [2, 1]'),\n Text(0.7849462365591398, 0.05, 'log_loss = 0.0\\nsamples = 4\\nvalue = [0, 4]'),\n Text(0.8172043010752689, 0.15, 'x[9] <= 2.54\\nlog_loss = 0.216\\nsamples = 29\\nvalue = [1, 28]'),\n Text(0.8064516129032258, 0.05, 'log_loss = 0.0\\nsamples = 25\\nvalue = [0, 25]'),\n Text(0.8279569892473119, 0.05, 'log_loss = 0.811\\nsamples = 4\\nvalue = [1, 3]'),\n Text(0.8602150537634409, 0.55, 'x[2] <= 0.812\\nlog_loss = 0.755\\nsamples = 23\\nvalue = [18, 5]'),\n Text(0.8494623655913979, 0.45, 'x[3] <= 0.385\\nlog_loss = 0.469\\nsamples = 20\\nvalue = [18, 2]'),\n Text(0.8387096774193549, 0.35, 'x[4] <= 0.263\\nlog_loss = 0.971\\nsamples = 5\\nvalue = [3, 2]'),\n Text(0.8279569892473119, 0.25, 'log_loss = 0.0\\nsamples = 2\\nvalue = [2, 0]'),\n Text(0.8494623655913979, 0.25, 'x[1] <= 2.587\\nlog_loss = 0.918\\nsamples = 3\\nvalue = [1, 2]'),\n Text(0.8387096774193549, 0.15, 'log_loss = 0.0\\nsamples = 2\\nvalue = [0, 2]'),\n Text(0.8602150537634409, 0.15, 'log_loss = 0.0\\nsamples = 1\\nvalue = [1, 0]'),\n Text(0.8602150537634409, 0.35, 'log_loss = 0.0\\nsamples = 15\\nvalue = [15, 0]'),\n Text(0.8709677419354839, 0.45, 'log_loss = 0.0\\nsamples = 3\\nvalue = [0, 3]'),\n Text(0.9301075268817204, 0.65, 'x[4] <= -0.129\\nlog_loss = 0.843\\nsamples = 48\\nvalue = [35, 13]'),\n Text(0.9032258064516129, 0.55, 'x[2] <= 2.12\\nlog_loss = 0.297\\nsamples = 19\\nvalue = [18, 1]'),\n Text(0.8924731182795699, 0.45, 'log_loss = 0.0\\nsamples = 18\\nvalue = [18, 0]'),\n Text(0.9139784946236559, 0.45, 'log_loss = 0.0\\nsamples = 1\\nvalue = [0, 1]'),\n Text(0.956989247311828, 0.55, 'x[3] <= 1.079\\nlog_loss = 0.978\\nsamples = 29\\nvalue = [17, 12]'),\n Text(0.9354838709677419, 0.45, 'x[0] <= 2.058\\nlog_loss = 0.684\\nsamples = 11\\nvalue = [2, 9]'),\n Text(0.9247311827956989, 0.35, 'x[3] <= 1.021\\nlog_loss = 0.469\\nsamples = 10\\nvalue = [1, 9]'),\n Text(0.9139784946236559, 0.25, 'log_loss = 0.0\\nsamples = 8\\nvalue = [0, 8]'),\n Text(0.9354838709677419, 0.25, 'x[4] <= -0.003\\nlog_loss = 1.0\\nsamples = 2\\nvalue = [1, 1]'),\n Text(0.9247311827956989, 0.15, 'log_loss = 0.0\\nsamples = 1\\nvalue = [1, 0]'),\n Text(0.946236559139785, 0.15, 'log_loss = 0.0\\nsamples = 1\\nvalue = [0, 1]'),\n Text(0.946236559139785, 0.35, 'log_loss = 0.0\\nsamples = 1\\nvalue = [1, 0]'),\n Text(0.978494623655914, 0.45, 'x[0] <= 1.673\\nlog_loss = 0.65\\nsamples = 18\\nvalue = [15, 3]'),\n Text(0.967741935483871, 0.35, 'x[2] <= 0.042\\nlog_loss = 0.811\\nsamples = 4\\nvalue = [1, 3]'),\n Text(0.956989247311828, 0.25, 'log_loss = 0.0\\nsamples = 3\\nvalue = [0, 3]'),\n Text(0.978494623655914, 0.25, 'log_loss = 0.0\\nsamples = 1\\nvalue = [1, 0]'),\n Text(0.989247311827957, 0.35, 'log_loss = 0.0\\nsamples = 14\\nvalue = [14, 0]')]"
     },
     "execution_count": 145,
     "metadata": {},
     "output_type": "execute_result"
    },
    {
     "data": {
      "text/plain": "<Figure size 640x480 with 1 Axes>",
      "image/png": "[encoded data removed]"
     },
     "metadata": {},
     "output_type": "display_data"
    }
   ],
   "source": [
    "tree.plot_tree(decision_classifier)"
   ],
   "metadata": {
    "collapsed": false,
    "ExecuteTime": {
     "start_time": "2023-04-22T13:37:26.094135Z",
     "end_time": "2023-04-22T13:37:28.791828Z"
    }
   }
  },
  {
   "cell_type": "code",
   "execution_count": 146,
   "outputs": [],
   "source": [
    "ypred = decision_classifier.predict(X_test)"
   ],
   "metadata": {
    "collapsed": false,
    "ExecuteTime": {
     "start_time": "2023-04-22T13:38:27.110730Z",
     "end_time": "2023-04-22T13:38:27.117032Z"
    }
   }
  },
  {
   "cell_type": "code",
   "execution_count": 147,
   "outputs": [
    {
     "data": {
      "text/plain": "array([[82,  9],\n       [18, 91]])"
     },
     "execution_count": 147,
     "metadata": {},
     "output_type": "execute_result"
    }
   ],
   "source": [
    "confusion_matrix(y_test, ypred)"
   ],
   "metadata": {
    "collapsed": false,
    "ExecuteTime": {
     "start_time": "2023-04-22T13:39:23.199799Z",
     "end_time": "2023-04-22T13:39:23.205960Z"
    }
   }
  },
  {
   "cell_type": "code",
   "execution_count": 148,
   "outputs": [
    {
     "data": {
      "text/plain": "0.865"
     },
     "execution_count": 148,
     "metadata": {},
     "output_type": "execute_result"
    }
   ],
   "source": [
    "accuracy_score(y_test,ypred)"
   ],
   "metadata": {
    "collapsed": false,
    "ExecuteTime": {
     "start_time": "2023-04-22T13:39:49.129143Z",
     "end_time": "2023-04-22T13:39:49.135872Z"
    }
   }
  },
  {
   "cell_type": "code",
   "execution_count": 150,
   "outputs": [
    {
     "name": "stdout",
     "output_type": "stream",
     "text": [
      "              precision    recall  f1-score   support\n",
      "\n",
      "           0       0.73      0.86      0.79        91\n",
      "           1       0.86      0.73      0.79       109\n",
      "\n",
      "    accuracy                           0.79       200\n",
      "   macro avg       0.79      0.80      0.79       200\n",
      "weighted avg       0.80      0.79      0.79       200\n",
      "\n"
     ]
    }
   ],
   "source": [
    "print (classification_report(y_test,y_pred))"
   ],
   "metadata": {
    "collapsed": false,
    "ExecuteTime": {
     "start_time": "2023-04-22T13:40:54.474103Z",
     "end_time": "2023-04-22T13:40:54.484867Z"
    }
   }
  }
 ],
 "metadata": {
  "kernelspec": {
   "display_name": "Python 3",
   "language": "python",
   "name": "python3"
  },
  "language_info": {
   "codemirror_mode": {
    "name": "ipython",
    "version": 2
   },
   "file_extension": ".py",
   "mimetype": "text/x-python",
   "name": "python",
   "nbconvert_exporter": "python",
   "pygments_lexer": "ipython2",
   "version": "3.10.9"
  }
 },
 "nbformat": 4,
 "nbformat_minor": 0
}
