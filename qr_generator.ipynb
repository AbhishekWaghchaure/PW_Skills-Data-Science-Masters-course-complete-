{
 "cells": [
  {
   "cell_type": "code",
   "execution_count": 3,
   "metadata": {},
   "outputs": [],
   "source": [
    "import qrcode\n",
    "\n",
    "## 18.353456770766403, 74.02963550935237\n",
    "## https://www.google.com/maps/place/Surya+Hospital/@18.352744,74.0292922,16z/data=!4m6!3m5!1s0x3bc2e57d8aeac7e5:0xb26322c4efbfeb2f!8m2!3d18.3531508!4d74.0295934!16s%2Fg%2F11b6rc1qfd?entry=ttu\n",
    "\n",
    "def create_google_maps_qr_code(latitude, longitude):\n",
    "    # Construct the Google Maps URL with the provided coordinates\n",
    "    maps_url = f'https://www.google.com/maps/place/Surya+Hospital/@18.352744,74.0292922,16z/data=!4m6!3m5!1s0x3bc2e57d8aeac7e5:0xb26322c4efbfeb2f!8m2!3d18.3531508!4d74.0295934!16s%2Fg%2F11b6rc1qfd?entry=ttu'\n",
    "\n",
    "    # Create a QR code with the Google Maps URL\n",
    "    qr = qrcode.QRCode(\n",
    "        version=2,\n",
    "        error_correction=qrcode.constants.ERROR_CORRECT_L,\n",
    "        box_size=15,\n",
    "        border=1,\n",
    "    )\n",
    "    qr.add_data(maps_url)\n",
    "    qr.make(fit=True)\n",
    "\n",
    "    # Create an image from the QR code\n",
    "    img = qr.make_image(fill_color=\"black\", back_color=\"white\")\n",
    "\n",
    "    # Save the image to a file\n",
    "    img.save('google_maps_qr_code1.png')\n",
    "\n",
    "# Replace these coordinates with the ones you obtained from Google Maps\n",
    "latitude = 18.353456770766403\n",
    "longitude = 74.02963550935237\n",
    "\n",
    "create_google_maps_qr_code(latitude, longitude)\n"
   ]
  }
 ],
 "metadata": {
  "kernelspec": {
   "display_name": "tensorflow",
   "language": "python",
   "name": "python3"
  },
  "language_info": {
   "codemirror_mode": {
    "name": "ipython",
    "version": 3
   },
   "file_extension": ".py",
   "mimetype": "text/x-python",
   "name": "python",
   "nbconvert_exporter": "python",
   "pygments_lexer": "ipython3",
   "version": "3.10.11"
  }
 },
 "nbformat": 4,
 "nbformat_minor": 2
}
