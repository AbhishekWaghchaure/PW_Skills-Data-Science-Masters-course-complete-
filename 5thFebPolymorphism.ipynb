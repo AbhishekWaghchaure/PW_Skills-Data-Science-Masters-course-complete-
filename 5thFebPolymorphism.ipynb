{
 "cells": [
  {
   "attachments": {},
   "cell_type": "markdown",
   "metadata": {},
   "source": [
    "<h1>Data Overriding</h1>\n",
    "Same function name and same signature."
   ]
  },
  {
   "cell_type": "code",
   "execution_count": 4,
   "metadata": {},
   "outputs": [],
   "source": [
    "class Vehicles:\n",
    "    def __init__(self,vehicleName, vehicleType, fuelUsed):\n",
    "        self.vehicleName = vehicleName\n",
    "        self.vehicleType = vehicleType\n",
    "        self.fuelUsed = fuelUsed\n",
    "    \n",
    "    def displayDetails(self):\n",
    "        print(self.vehicleName, self.vehicleType, self.fuelUsed)\n",
    "        \n",
    "    def sound():\n",
    "        print('The Sound of the car is : neutral')"
   ]
  },
  {
   "cell_type": "code",
   "execution_count": null,
   "metadata": {},
   "outputs": [],
   "source": [
    "class Trucks(Vehicles):\n",
    "    \n",
    "    "
   ]
  }
 ],
 "metadata": {
  "kernelspec": {
   "display_name": "Python 3",
   "language": "python",
   "name": "python3"
  },
  "language_info": {
   "codemirror_mode": {
    "name": "ipython",
    "version": 3
   },
   "file_extension": ".py",
   "mimetype": "text/x-python",
   "name": "python",
   "nbconvert_exporter": "python",
   "pygments_lexer": "ipython3",
   "version": "3.10.6"
  },
  "orig_nbformat": 4,
  "vscode": {
   "interpreter": {
    "hash": "aee8b7b246df8f9039afb4144a1f6fd8d2ca17a180786b69acc140d282b71a49"
   }
  }
 },
 "nbformat": 4,
 "nbformat_minor": 2
}
