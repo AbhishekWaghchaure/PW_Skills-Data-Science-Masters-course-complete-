{
 "cells": [
  {
   "attachments": {},
   "cell_type": "markdown",
   "metadata": {},
   "source": [
    "<h1>Data Overriding</h1>\n",
    "Same function name and same signature."
   ]
  },
  {
   "cell_type": "code",
   "execution_count": 82,
   "metadata": {},
   "outputs": [],
   "source": [
    "class Vehicles:\n",
    "    def __init__(self,vehicleName, vehicleType, fuelUsed):\n",
    "        self.vehicleName = vehicleName\n",
    "        self.vehicleType = vehicleType\n",
    "        self.fuelUsed = fuelUsed\n",
    "    \n",
    "    def displayDetails(self):\n",
    "        print(self.vehicleName, self.vehicleType, self.fuelUsed)\n",
    "        \n",
    "    def sound():\n",
    "        print('The Sound of the car is : neutral')"
   ]
  },
  {
   "cell_type": "code",
   "execution_count": 83,
   "metadata": {},
   "outputs": [],
   "source": [
    "class Trucks(Vehicles):\n",
    "    \n",
    "    def __init__(self, vehicleName, vehicleType, fuelUsed, soundProduced):\n",
    "        super().__init__(vehicleName, vehicleType, fuelUsed)\n",
    "        self.soundProduced = soundProduced\n",
    "\n",
    "\n",
    "    def sound(self):\n",
    "        return ('The sound of this vehicle is :' + self.soundProduced)\n",
    "        \n",
    "    def displayDetails(self):\n",
    "        print(super().displayDetails() , self.soundProduced) "
   ]
  },
  {
   "cell_type": "code",
   "execution_count": 84,
   "metadata": {},
   "outputs": [],
   "source": [
    "TrucksObj = Trucks('Volvo', 'SmashedFaceTruck', 'Disel', 'Hngrrrr' )"
   ]
  },
  {
   "cell_type": "code",
   "execution_count": 87,
   "metadata": {},
   "outputs": [
    {
     "data": {
      "text/plain": [
       "__main__.Trucks"
      ]
     },
     "execution_count": 87,
     "metadata": {},
     "output_type": "execute_result"
    }
   ],
   "source": [
    "type(TrucksObj)"
   ]
  },
  {
   "cell_type": "code",
   "execution_count": null,
   "metadata": {},
   "outputs": [
    {
     "name": "stdout",
     "output_type": "stream",
     "text": [
      "Volvo SmashedFaceTruck Disel\n",
      "None Hngrrrr\n"
     ]
    }
   ],
   "source": [
    "TrucksObj.displayDetails()"
   ]
  },
  {
   "cell_type": "code",
   "execution_count": null,
   "metadata": {},
   "outputs": [
    {
     "data": {
      "text/plain": [
       "'The sound of this vehicle is :Hngrrrr'"
      ]
     },
     "execution_count": 78,
     "metadata": {},
     "output_type": "execute_result"
    }
   ],
   "source": [
    "TrucksObj.sound()"
   ]
  },
  {
   "attachments": {},
   "cell_type": "markdown",
   "metadata": {},
   "source": [
    "<h1>Function Overloading</h1>\n",
    "Same function name but different arrguments or signature is called function overloading."
   ]
  },
  {
   "cell_type": "code",
   "execution_count": 95,
   "metadata": {},
   "outputs": [],
   "source": [
    "def cal(a, b):\n",
    "    return('The sum of the two digits is :' + str(a+b))"
   ]
  },
  {
   "cell_type": "code",
   "execution_count": 96,
   "metadata": {},
   "outputs": [
    {
     "data": {
      "text/plain": [
       "'The sum of the two digits is :6'"
      ]
     },
     "execution_count": 96,
     "metadata": {},
     "output_type": "execute_result"
    }
   ],
   "source": [
    "cal(2,4)"
   ]
  },
  {
   "cell_type": "code",
   "execution_count": 97,
   "metadata": {},
   "outputs": [],
   "source": [
    "def cal(a,b,c):\n",
    "    return('The sum of the three digits is :' + (str(a+b+c)))"
   ]
  },
  {
   "cell_type": "code",
   "execution_count": 98,
   "metadata": {},
   "outputs": [
    {
     "data": {
      "text/plain": [
       "'The sum of the three digits is :9'"
      ]
     },
     "execution_count": 98,
     "metadata": {},
     "output_type": "execute_result"
    }
   ],
   "source": [
    "cal(2,3,4)"
   ]
  }
 ],
 "metadata": {
  "kernelspec": {
   "display_name": "Python 3",
   "language": "python",
   "name": "python3"
  },
  "language_info": {
   "codemirror_mode": {
    "name": "ipython",
    "version": 3
   },
   "file_extension": ".py",
   "mimetype": "text/x-python",
   "name": "python",
   "nbconvert_exporter": "python",
   "pygments_lexer": "ipython3",
   "version": "3.10.6"
  },
  "orig_nbformat": 4,
  "vscode": {
   "interpreter": {
    "hash": "aee8b7b246df8f9039afb4144a1f6fd8d2ca17a180786b69acc140d282b71a49"
   }
  }
 },
 "nbformat": 4,
 "nbformat_minor": 2
}
