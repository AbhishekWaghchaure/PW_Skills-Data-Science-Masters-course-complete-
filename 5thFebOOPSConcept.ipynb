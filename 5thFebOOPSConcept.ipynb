{
 "cells": [
  {
   "cell_type": "code",
   "execution_count": 1,
   "metadata": {},
   "outputs": [],
   "source": [
    "class Person:\n",
    "    def __init__(self, firstName, lastName):\n",
    "        self.firsetName = firstName\n",
    "        self.lastName = lastName\n",
    "\n",
    "    def viewPersonDetails(self):\n",
    "        print('The name of the Person is :', self.firsetName, self.lastName)"
   ]
  },
  {
   "cell_type": "code",
   "execution_count": 2,
   "metadata": {},
   "outputs": [],
   "source": [
    "person1 = Person('Abhishek', 'Waghchaure')"
   ]
  },
  {
   "cell_type": "code",
   "execution_count": 4,
   "metadata": {},
   "outputs": [
    {
     "name": "stdout",
     "output_type": "stream",
     "text": [
      "The name of the Person is : Abhishek Waghchaure\n"
     ]
    }
   ],
   "source": [
    "person1.viewPersonDetails()"
   ]
  },
  {
   "cell_type": "code",
   "execution_count": 7,
   "metadata": {},
   "outputs": [],
   "source": [
    "class Cars:\n",
    "    def __init__(self, carName, carType, fuel):\n",
    "        self.carName = carName\n",
    "        self.carType = carType\n",
    "        self.fuel = fuel\n",
    "    \n",
    "    def viewCarDetails(self):\n",
    "        print(self.carName, self.carName, self.fuel)"
   ]
  },
  {
   "cell_type": "code",
   "execution_count": 8,
   "metadata": {},
   "outputs": [],
   "source": [
    "car1 = Cars('BMW', 'Sedan', 'Petrol')"
   ]
  },
  {
   "cell_type": "code",
   "execution_count": 9,
   "metadata": {},
   "outputs": [
    {
     "name": "stdout",
     "output_type": "stream",
     "text": [
      "BMW Sedan Petrol\n"
     ]
    }
   ],
   "source": [
    "car1.viewCarDetails()"
   ]
  }
 ],
 "metadata": {
  "kernelspec": {
   "display_name": "base",
   "language": "python",
   "name": "python3"
  },
  "language_info": {
   "codemirror_mode": {
    "name": "ipython",
    "version": 3
   },
   "file_extension": ".py",
   "mimetype": "text/x-python",
   "name": "python",
   "nbconvert_exporter": "python",
   "pygments_lexer": "ipython3",
   "version": "3.10.9"
  },
  "orig_nbformat": 4,
  "vscode": {
   "interpreter": {
    "hash": "6f043f0b60a6fc1c9a60b234b06c40840882e2b4c0170f26dc9dfb4ec4e6a4b2"
   }
  }
 },
 "nbformat": 4,
 "nbformat_minor": 2
}
