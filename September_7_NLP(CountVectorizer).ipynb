{
 "cells": [
  {
   "cell_type": "code",
   "execution_count": 2,
   "metadata": {},
   "outputs": [],
   "source": [
    "parahagraph = '''Michael Joseph Jackson (August 29, 1958 – June 25, 2009) was an American singer, songwriter, dancer, and philanthropist. Known as the \"King of Pop\", he is regarded as one of the most significant cultural figures of the 20th century. During his four-decade career, his contributions to music, dance, and fashion, along with his publicized personal life, made him a global figure in popular culture. Jackson influenced artists across many music genres. Through stage and video performances, he popularized complicated street dance moves such as the moonwalk, which he named, as well as the robot.\n",
    "\n",
    "The eighth child of the Jackson family, Jackson made his public debut in 1964 with his older brothers Jackie, Tito, Jermaine, and Marlon as a member of the Jackson 5 (later known as the Jacksons). Jackson began his solo career in 1971 while at Motown Records. He became a solo star with his 1979 album Off the Wall. His music videos, including those for \"Beat It\", \"Billie Jean\", and \"Thriller\" from his 1982 album Thriller, are credited with breaking racial barriers and transforming the medium into an art form and promotional tool. He helped propel the success of MTV and continued to innovate with the videos for his subsequent albums: Bad (1987), Dangerous (1991), HIStory: Past, Present and Future, Book I (1995), and Invincible (2001). Thriller became the best-selling album of all time, while Bad was the first album to produce five US Billboard Hot 100 number-one singles.[nb 1]\n",
    "\n",
    "From the late 1980s, Jackson became a figure of controversy and speculation due to his changing appearance, relationships, behavior, and lifestyle. In 1993, he was accused of sexually abusing the child of a family friend. The lawsuit was settled out of civil court; Jackson was not indicted due to lack of evidence. In 2005, he was tried and acquitted of further child sexual abuse allegations and several other charges. The FBI found no evidence of criminal conduct by Jackson in either case. In 2009, while he was preparing for a series of comeback concerts, This Is It, Jackson died from an overdose of propofol administered by his personal physician, Conrad Murray, who was convicted in 2011 of involuntary manslaughter for his involvement in Jackson's death. His death triggered reactions around the world, creating unprecedented surges of internet traffic and a spike in sales of his music. Jackson's televised memorial service, held at the Staples Center in Los Angeles, was estimated to have been viewed by more than 2.5 billion people.\n",
    "\n",
    "Jackson is one of the best-selling music artists of all time, with estimated sales of over 400 million records worldwide.[nb 2] He had 13 Billboard Hot 100 number-one singles (fourth highest of any artist in the Hot 100 era) and was the first artist to have a top-ten single on the Billboard Hot 100 in five different decades. His honors include 15 Grammy Awards, six Brit Awards, a Golden Globe Award, and 39 Guinness World Records, including the \"Most Successful Entertainer of All Time\". Jackson's inductions include the Rock and Roll Hall of Fame (twice), the Vocal Group Hall of Fame, the Songwriters Hall of Fame, the Dance Hall of Fame (making him the only recording artist to be inducted) and the Rhythm and Blues Music Hall of Fame.'''"
   ]
  },
  {
   "cell_type": "code",
   "execution_count": 3,
   "metadata": {},
   "outputs": [],
   "source": [
    "import re\n",
    "from nltk.corpus import stopwords\n",
    "from nltk.stem import PorterStemmer\n",
    "from nltk.stem import WordNetLemmatizer\n",
    "from nltk.tokenize import sent_tokenize, word_tokenize"
   ]
  },
  {
   "cell_type": "code",
   "execution_count": 4,
   "metadata": {},
   "outputs": [],
   "source": [
    "stemmer = PorterStemmer()\n",
    "lemmatizer = WordNetLemmatizer()\n",
    "sentences = sent_tokenize(parahagraph)"
   ]
  },
  {
   "cell_type": "code",
   "execution_count": 5,
   "metadata": {},
   "outputs": [
    {
     "data": {
      "text/plain": [
       "23"
      ]
     },
     "execution_count": 5,
     "metadata": {},
     "output_type": "execute_result"
    }
   ],
   "source": [
    "len(sentences)"
   ]
  },
  {
   "cell_type": "code",
   "execution_count": 6,
   "metadata": {},
   "outputs": [
    {
     "data": {
      "text/plain": [
       "['Michael Joseph Jackson (August 29, 1958 – June 25, 2009) was an American singer, songwriter, dancer, and philanthropist.',\n",
       " 'Known as the \"King of Pop\", he is regarded as one of the most significant cultural figures of the 20th century.',\n",
       " 'During his four-decade career, his contributions to music, dance, and fashion, along with his publicized personal life, made him a global figure in popular culture.',\n",
       " 'Jackson influenced artists across many music genres.',\n",
       " 'Through stage and video performances, he popularized complicated street dance moves such as the moonwalk, which he named, as well as the robot.',\n",
       " 'The eighth child of the Jackson family, Jackson made his public debut in 1964 with his older brothers Jackie, Tito, Jermaine, and Marlon as a member of the Jackson 5 (later known as the Jacksons).',\n",
       " 'Jackson began his solo career in 1971 while at Motown Records.',\n",
       " 'He became a solo star with his 1979 album Off the Wall.',\n",
       " 'His music videos, including those for \"Beat It\", \"Billie Jean\", and \"Thriller\" from his 1982 album Thriller, are credited with breaking racial barriers and transforming the medium into an art form and promotional tool.',\n",
       " 'He helped propel the success of MTV and continued to innovate with the videos for his subsequent albums: Bad (1987), Dangerous (1991), HIStory: Past, Present and Future, Book I (1995), and Invincible (2001).',\n",
       " 'Thriller became the best-selling album of all time, while Bad was the first album to produce five US Billboard Hot 100 number-one singles.',\n",
       " '[nb 1]\\n\\nFrom the late 1980s, Jackson became a figure of controversy and speculation due to his changing appearance, relationships, behavior, and lifestyle.',\n",
       " 'In 1993, he was accused of sexually abusing the child of a family friend.',\n",
       " 'The lawsuit was settled out of civil court; Jackson was not indicted due to lack of evidence.',\n",
       " 'In 2005, he was tried and acquitted of further child sexual abuse allegations and several other charges.',\n",
       " 'The FBI found no evidence of criminal conduct by Jackson in either case.',\n",
       " \"In 2009, while he was preparing for a series of comeback concerts, This Is It, Jackson died from an overdose of propofol administered by his personal physician, Conrad Murray, who was convicted in 2011 of involuntary manslaughter for his involvement in Jackson's death.\",\n",
       " 'His death triggered reactions around the world, creating unprecedented surges of internet traffic and a spike in sales of his music.',\n",
       " \"Jackson's televised memorial service, held at the Staples Center in Los Angeles, was estimated to have been viewed by more than 2.5 billion people.\",\n",
       " 'Jackson is one of the best-selling music artists of all time, with estimated sales of over 400 million records worldwide.',\n",
       " '[nb 2] He had 13 Billboard Hot 100 number-one singles (fourth highest of any artist in the Hot 100 era) and was the first artist to have a top-ten single on the Billboard Hot 100 in five different decades.',\n",
       " 'His honors include 15 Grammy Awards, six Brit Awards, a Golden Globe Award, and 39 Guinness World Records, including the \"Most Successful Entertainer of All Time\".',\n",
       " \"Jackson's inductions include the Rock and Roll Hall of Fame (twice), the Vocal Group Hall of Fame, the Songwriters Hall of Fame, the Dance Hall of Fame (making him the only recording artist to be inducted) and the Rhythm and Blues Music Hall of Fame.\"]"
      ]
     },
     "execution_count": 6,
     "metadata": {},
     "output_type": "execute_result"
    }
   ],
   "source": [
    "sentences"
   ]
  },
  {
   "cell_type": "code",
   "execution_count": 7,
   "metadata": {},
   "outputs": [],
   "source": [
    "corpus = []\n",
    "for i in range(len(sentences)):\n",
    "    review = re.sub('[^a-zA-Z]',' ', sentences[i])\n",
    "    review = review.lower()\n",
    "    review = review.split()\n",
    "    review = [lemmatizer.lemmatize(words) for words in review if not words in set(stopwords.words('english'))]\n",
    "    review = ' '.join(review)\n",
    "    corpus.append(review)"
   ]
  },
  {
   "cell_type": "code",
   "execution_count": 8,
   "metadata": {},
   "outputs": [
    {
     "data": {
      "text/plain": [
       "23"
      ]
     },
     "execution_count": 8,
     "metadata": {},
     "output_type": "execute_result"
    }
   ],
   "source": [
    "len(corpus)"
   ]
  },
  {
   "cell_type": "code",
   "execution_count": 9,
   "metadata": {},
   "outputs": [
    {
     "data": {
      "text/plain": [
       "['michael joseph jackson august june american singer songwriter dancer philanthropist',\n",
       " 'known king pop regarded one significant cultural figure th century',\n",
       " 'four decade career contribution music dance fashion along publicized personal life made global figure popular culture',\n",
       " 'jackson influenced artist across many music genre',\n",
       " 'stage video performance popularized complicated street dance move moonwalk named well robot',\n",
       " 'eighth child jackson family jackson made public debut older brother jackie tito jermaine marlon member jackson later known jackson',\n",
       " 'jackson began solo career motown record',\n",
       " 'became solo star album wall',\n",
       " 'music video including beat billie jean thriller album thriller credited breaking racial barrier transforming medium art form promotional tool',\n",
       " 'helped propel success mtv continued innovate video subsequent album bad dangerous history past present future book invincible',\n",
       " 'thriller became best selling album time bad first album produce five u billboard hot number one single',\n",
       " 'nb late jackson became figure controversy speculation due changing appearance relationship behavior lifestyle',\n",
       " 'accused sexually abusing child family friend',\n",
       " 'lawsuit settled civil court jackson indicted due lack evidence',\n",
       " 'tried acquitted child sexual abuse allegation several charge',\n",
       " 'fbi found evidence criminal conduct jackson either case',\n",
       " 'preparing series comeback concert jackson died overdose propofol administered personal physician conrad murray convicted involuntary manslaughter involvement jackson death',\n",
       " 'death triggered reaction around world creating unprecedented surge internet traffic spike sale music',\n",
       " 'jackson televised memorial service held staple center los angeles estimated viewed billion people',\n",
       " 'jackson one best selling music artist time estimated sale million record worldwide',\n",
       " 'nb billboard hot number one single fourth highest artist hot era first artist top ten single billboard hot five different decade',\n",
       " 'honor include grammy award six brit award golden globe award guinness world record including successful entertainer time',\n",
       " 'jackson induction include rock roll hall fame twice vocal group hall fame songwriter hall fame dance hall fame making recording artist inducted rhythm blue music hall fame']"
      ]
     },
     "execution_count": 9,
     "metadata": {},
     "output_type": "execute_result"
    }
   ],
   "source": [
    "corpus"
   ]
  },
  {
   "cell_type": "code",
   "execution_count": 10,
   "metadata": {},
   "outputs": [],
   "source": [
    "from sklearn.feature_extraction.text import CountVectorizer"
   ]
  },
  {
   "cell_type": "code",
   "execution_count": 11,
   "metadata": {},
   "outputs": [],
   "source": [
    "cv = CountVectorizer()\n",
    "X = cv.fit_transform(corpus).toarray()"
   ]
  },
  {
   "cell_type": "code",
   "execution_count": 19,
   "metadata": {},
   "outputs": [
    {
     "data": {
      "text/plain": [
       "'known king pop regarded one significant cultural figure th century'"
      ]
     },
     "execution_count": 19,
     "metadata": {},
     "output_type": "execute_result"
    }
   ],
   "source": [
    "corpus[1]"
   ]
  },
  {
   "cell_type": "code",
   "execution_count": 12,
   "metadata": {},
   "outputs": [
    {
     "data": {
      "text/plain": [
       "array([0, 0, 0, 0, 0, 0, 0, 0, 0, 0, 0, 0, 0, 0, 0, 0, 0, 0, 0, 0, 0, 0,\n",
       "       0, 0, 0, 0, 0, 0, 0, 0, 0, 0, 0, 0, 0, 1, 0, 0, 0, 0, 0, 0, 0, 0,\n",
       "       0, 0, 0, 0, 0, 0, 0, 0, 0, 1, 0, 0, 0, 0, 0, 0, 0, 0, 0, 0, 0, 0,\n",
       "       0, 0, 0, 0, 0, 0, 0, 0, 1, 0, 0, 0, 0, 0, 0, 0, 0, 0, 0, 0, 0, 0,\n",
       "       0, 0, 0, 0, 0, 0, 0, 0, 0, 0, 0, 0, 0, 0, 0, 0, 0, 0, 0, 0, 0, 0,\n",
       "       0, 0, 0, 0, 1, 1, 0, 0, 0, 0, 0, 0, 0, 0, 0, 0, 0, 0, 0, 0, 0, 0,\n",
       "       0, 0, 0, 0, 0, 0, 0, 0, 0, 0, 0, 1, 0, 0, 0, 0, 0, 0, 0, 1, 0, 0,\n",
       "       0, 0, 0, 0, 0, 0, 0, 0, 0, 0, 0, 0, 1, 0, 0, 0, 0, 0, 0, 0, 0, 0,\n",
       "       0, 0, 0, 0, 1, 0, 0, 0, 0, 0, 0, 0, 0, 0, 0, 0, 0, 0, 0, 0, 0, 0,\n",
       "       1, 0, 0, 0, 0, 0, 0, 0, 0, 0, 0, 0, 0, 0, 0, 0, 0, 0, 0])"
      ]
     },
     "execution_count": 12,
     "metadata": {},
     "output_type": "execute_result"
    }
   ],
   "source": [
    "X[1]"
   ]
  },
  {
   "cell_type": "code",
   "execution_count": 13,
   "metadata": {},
   "outputs": [
    {
     "data": {
      "text/plain": [
       "(23, 217)"
      ]
     },
     "execution_count": 13,
     "metadata": {},
     "output_type": "execute_result"
    }
   ],
   "source": [
    "X.shape"
   ]
  },
  {
   "cell_type": "code",
   "execution_count": 20,
   "metadata": {},
   "outputs": [
    {
     "data": {
      "text/plain": [
       "115"
      ]
     },
     "execution_count": 20,
     "metadata": {},
     "output_type": "execute_result"
    }
   ],
   "source": [
    "cv.vocabulary_['known']"
   ]
  }
 ],
 "metadata": {
  "kernelspec": {
   "display_name": "tensorflow",
   "language": "python",
   "name": "python3"
  },
  "language_info": {
   "codemirror_mode": {
    "name": "ipython",
    "version": 3
   },
   "file_extension": ".py",
   "mimetype": "text/x-python",
   "name": "python",
   "nbconvert_exporter": "python",
   "pygments_lexer": "ipython3",
   "version": "3.10.11"
  }
 },
 "nbformat": 4,
 "nbformat_minor": 2
}
