{
 "cells": [
  {
   "cell_type": "code",
   "execution_count": 24,
   "metadata": {},
   "outputs": [
    {
     "ename": "TypeError",
     "evalue": "'Tensor' object is not callable",
     "output_type": "error",
     "traceback": [
      "\u001b[0;31m---------------------------------------------------------------------------\u001b[0m",
      "\u001b[0;31mTypeError\u001b[0m                                 Traceback (most recent call last)",
      "Cell \u001b[0;32mIn[24], line 1\u001b[0m\n\u001b[0;32m----> 1\u001b[0m digit \u001b[38;5;241m=\u001b[39m \u001b[38;5;28mint\u001b[39m(\u001b[38;5;28;43minput\u001b[39;49m\u001b[43m(\u001b[49m\u001b[38;5;124;43m\"\u001b[39;49m\u001b[38;5;124;43mEnter the digit of length of list\u001b[39;49m\u001b[38;5;124;43m\"\u001b[39;49m\u001b[43m)\u001b[49m)\n\u001b[1;32m      3\u001b[0m cust_list \u001b[38;5;241m=\u001b[39m []\n\u001b[1;32m      4\u001b[0m \u001b[38;5;28;01mfor\u001b[39;00m i \u001b[38;5;129;01min\u001b[39;00m \u001b[38;5;28mrange\u001b[39m(digit):\n",
      "\u001b[0;31mTypeError\u001b[0m: 'Tensor' object is not callable"
     ]
    }
   ],
   "source": [
    "digit = int(input(\"Enter the digit of length of list\"))\n",
    "\n",
    "cust_list = []\n",
    "for i in range(digit):\n",
    "    cust_list.append(int(input(f\"Enter the {i+1} element\")))\n",
    "print(f\"The custo list created is {cust_list}\")\n",
    "\n",
    "## Traditional by using a swap variable :\n",
    "\n",
    "# swap = cust_list[0]\n",
    "# cust_list[0] = cust_list[len(cust_list) - 1]"
   ]
  },
  {
   "cell_type": "code",
   "execution_count": 7,
   "metadata": {},
   "outputs": [
    {
     "data": {
      "text/plain": [
       "5"
      ]
     },
     "execution_count": 7,
     "metadata": {},
     "output_type": "execute_result"
    }
   ],
   "source": [
    "cust_list[len(cust_list) - 1]"
   ]
  },
  {
   "cell_type": "code",
   "execution_count": 8,
   "metadata": {},
   "outputs": [],
   "source": [
    "swap = cust_list[0]\n",
    "cust_list[0] = cust_list[len(cust_list) - 1]\n",
    "cust_list[len(cust_list) - 1] = swap"
   ]
  },
  {
   "cell_type": "code",
   "execution_count": 9,
   "metadata": {},
   "outputs": [
    {
     "name": "stdout",
     "output_type": "stream",
     "text": [
      "The list after swap is : [5, 2, 3, 4, 1]\n"
     ]
    }
   ],
   "source": [
    "print(f\"The list after swap is : {cust_list}\")"
   ]
  },
  {
   "cell_type": "code",
   "execution_count": 10,
   "metadata": {},
   "outputs": [
    {
     "name": "stdout",
     "output_type": "stream",
     "text": [
      "[4, 2, 3, 5, 1]\n"
     ]
    }
   ],
   "source": [
    "cust_list[0],cust_list[3] = cust_list[3], cust_list[0]\n",
    "print(cust_list)"
   ]
  },
  {
   "cell_type": "code",
   "execution_count": 11,
   "metadata": {},
   "outputs": [],
   "source": [
    "first_pop = cust_list.pop(0)\n",
    "second_pop = cust_list.pop(4-1)"
   ]
  },
  {
   "cell_type": "code",
   "execution_count": 12,
   "metadata": {},
   "outputs": [
    {
     "data": {
      "text/plain": [
       "[1, 2, 3, 5, 4]"
      ]
     },
     "execution_count": 12,
     "metadata": {},
     "output_type": "execute_result"
    }
   ],
   "source": [
    "cust_list.insert(3,first_pop)\n",
    "cust_list.insert(0,second_pop)\n",
    "cust_list"
   ]
  },
  {
   "cell_type": "code",
   "execution_count": 1,
   "metadata": {},
   "outputs": [],
   "source": [
    "words = [\"This\", \"book\", \"was\", \"fantastic\", \"I\", \"really\", \"love\", \"science\", \"fiction\", \"but\", \"the\", \"protagonist\", \"was\", \"rude\", \"sometimes\"]"
   ]
  },
  {
   "cell_type": "code",
   "execution_count": 3,
   "metadata": {},
   "outputs": [],
   "source": [
    "word_idx = {word: i for i, word in enumerate(words)}"
   ]
  },
  {
   "cell_type": "code",
   "execution_count": 4,
   "metadata": {},
   "outputs": [
    {
     "data": {
      "text/plain": [
       "{'This': 0,\n",
       " 'book': 1,\n",
       " 'was': 12,\n",
       " 'fantastic': 3,\n",
       " 'I': 4,\n",
       " 'really': 5,\n",
       " 'love': 6,\n",
       " 'science': 7,\n",
       " 'fiction': 8,\n",
       " 'but': 9,\n",
       " 'the': 10,\n",
       " 'protagonist': 11,\n",
       " 'rude': 13,\n",
       " 'sometimes': 14}"
      ]
     },
     "execution_count": 4,
     "metadata": {},
     "output_type": "execute_result"
    }
   ],
   "source": [
    "word_idx"
   ]
  },
  {
   "cell_type": "code",
   "execution_count": 13,
   "metadata": {},
   "outputs": [],
   "source": [
    "import torch\n",
    "import torch.nn as nn\n",
    "index = [word_idx[w] for w in words]\n",
    "input = torch.tensor(index)"
   ]
  },
  {
   "cell_type": "code",
   "execution_count": 15,
   "metadata": {},
   "outputs": [],
   "source": [
    "embedding = nn.Embedding(num_embeddings=len(words), embedding_dim=10)\n",
    "embedded_input = embedding(input)"
   ]
  },
  {
   "cell_type": "code",
   "execution_count": 16,
   "metadata": {},
   "outputs": [
    {
     "data": {
      "text/plain": [
       "torch.Size([15, 10])"
      ]
     },
     "execution_count": 16,
     "metadata": {},
     "output_type": "execute_result"
    }
   ],
   "source": [
    "embedded_input.shape"
   ]
  },
  {
   "cell_type": "code",
   "execution_count": 17,
   "metadata": {},
   "outputs": [
    {
     "data": {
      "text/plain": [
       "15"
      ]
     },
     "execution_count": 17,
     "metadata": {},
     "output_type": "execute_result"
    }
   ],
   "source": [
    "len(index)"
   ]
  },
  {
   "cell_type": "code",
   "execution_count": 12,
   "metadata": {},
   "outputs": [
    {
     "data": {
      "text/plain": [
       "tensor([ 0,  1, 12,  3,  4,  5,  6,  7,  8,  9, 10, 11, 12, 13, 14])"
      ]
     },
     "execution_count": 12,
     "metadata": {},
     "output_type": "execute_result"
    }
   ],
   "source": [
    "input"
   ]
  },
  {
   "cell_type": "code",
   "execution_count": 19,
   "metadata": {},
   "outputs": [
    {
     "name": "stdout",
     "output_type": "stream",
     "text": [
      "tensor([[ 0.0708, -0.2289, -0.0409, -0.4761,  0.4918,  0.0822, -0.7044, -2.3622,\n",
      "          0.1069, -0.0216],\n",
      "        [ 0.2292, -0.0572,  0.1313,  1.3632,  1.3281,  0.0452,  0.3766,  0.5581,\n",
      "         -1.7713, -1.3142],\n",
      "        [ 0.8074,  0.4219, -1.3236, -0.5382, -1.4281,  0.5961,  1.2390,  0.6237,\n",
      "          1.1169,  0.9615],\n",
      "        [-1.3245, -0.6247,  1.2140, -0.5132, -0.6192, -0.0115, -0.1537,  0.4612,\n",
      "          0.0612,  1.5542],\n",
      "        [ 0.9285,  1.4420, -0.7343, -0.8164,  0.8616,  0.1697,  0.9607, -0.0058,\n",
      "          0.1298,  0.9203],\n",
      "        [ 0.2511, -1.8998,  0.6317, -1.1545, -0.1477,  0.7329,  0.5903, -2.4509,\n",
      "         -1.7269,  0.0579],\n",
      "        [-0.5815,  0.3811,  0.9986,  0.6444,  0.7825, -1.2043, -2.0826,  1.2991,\n",
      "         -0.4396,  1.4135],\n",
      "        [ 0.9890,  0.8384, -0.0433,  1.0413,  0.8815, -1.0375, -0.1086,  0.7560,\n",
      "         -1.5571, -0.8037],\n",
      "        [-0.6228, -0.0384,  1.1052,  1.0254, -0.7516, -2.5166, -1.0152,  0.6079,\n",
      "          0.8969,  1.3781],\n",
      "        [ 0.7034, -0.5232,  0.0045, -1.4856,  0.9544,  0.8633, -2.4250, -1.6066,\n",
      "          1.8062, -0.3216],\n",
      "        [ 0.5691,  0.6532, -0.1112,  0.4513, -1.3723, -0.9582, -0.4959, -0.0484,\n",
      "          0.0521, -1.9070],\n",
      "        [ 1.5625,  0.2891, -0.9313,  0.4381, -0.0539,  0.5696, -0.0134, -0.3030,\n",
      "         -0.4540, -0.5366],\n",
      "        [-1.3180,  0.1940,  1.9870, -1.7791, -1.2516, -1.1467,  0.1673,  0.1225,\n",
      "         -1.1394, -0.5521],\n",
      "        [ 0.7384, -1.1230,  0.3333, -0.9076, -0.4610, -0.2877, -0.5538,  0.9476,\n",
      "         -0.2246,  0.1701],\n",
      "        [ 0.3265,  0.3226, -0.8773, -0.5892,  0.1558, -1.7862,  1.1232,  0.5720,\n",
      "         -2.2713,  1.3774]])\n"
     ]
    }
   ],
   "source": [
    "tensor = torch.randn(15, 10)\n",
    "print(tensor)"
   ]
  }
 ],
 "metadata": {
  "kernelspec": {
   "display_name": "tensor",
   "language": "python",
   "name": "python3"
  },
  "language_info": {
   "codemirror_mode": {
    "name": "ipython",
    "version": 3
   },
   "file_extension": ".py",
   "mimetype": "text/x-python",
   "name": "python",
   "nbconvert_exporter": "python",
   "pygments_lexer": "ipython3",
   "version": "3.10.14"
  }
 },
 "nbformat": 4,
 "nbformat_minor": 2
}
